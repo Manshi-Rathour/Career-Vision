{
 "cells": [
  {
   "cell_type": "code",
   "execution_count": 1,
   "id": "2f4b5427",
   "metadata": {},
   "outputs": [],
   "source": [
    "import pandas as pd\n",
    "import numpy as np"
   ]
  },
  {
   "cell_type": "markdown",
   "id": "f8b612bb",
   "metadata": {},
   "source": [
    "# Data Loading: Training Data"
   ]
  },
  {
   "cell_type": "code",
   "execution_count": 2,
   "id": "02ec01fa",
   "metadata": {},
   "outputs": [
    {
     "data": {
      "text/html": [
       "<div>\n",
       "<style scoped>\n",
       "    .dataframe tbody tr th:only-of-type {\n",
       "        vertical-align: middle;\n",
       "    }\n",
       "\n",
       "    .dataframe tbody tr th {\n",
       "        vertical-align: top;\n",
       "    }\n",
       "\n",
       "    .dataframe thead th {\n",
       "        text-align: right;\n",
       "    }\n",
       "</style>\n",
       "<table border=\"1\" class=\"dataframe\">\n",
       "  <thead>\n",
       "    <tr style=\"text-align: right;\">\n",
       "      <th></th>\n",
       "      <th>First Name</th>\n",
       "      <th>Email ID</th>\n",
       "      <th>Quantity</th>\n",
       "      <th>Price Tier</th>\n",
       "      <th>Ticket Type</th>\n",
       "      <th>Attendee #</th>\n",
       "      <th>Group</th>\n",
       "      <th>Order Type</th>\n",
       "      <th>Currency</th>\n",
       "      <th>Total Paid</th>\n",
       "      <th>...</th>\n",
       "      <th>Attendee Status</th>\n",
       "      <th>College Name</th>\n",
       "      <th>How did you come to know about this event?</th>\n",
       "      <th>Specify in \"Others\" (how did you come to know about this event)</th>\n",
       "      <th>Designation</th>\n",
       "      <th>Year of Graduation</th>\n",
       "      <th>CGPA</th>\n",
       "      <th>Speaking Skills</th>\n",
       "      <th>ML Knowledge</th>\n",
       "      <th>Placement Status</th>\n",
       "    </tr>\n",
       "  </thead>\n",
       "  <tbody>\n",
       "    <tr>\n",
       "      <th>0</th>\n",
       "      <td>ANIKET</td>\n",
       "      <td>aniket@xyz.com</td>\n",
       "      <td>1</td>\n",
       "      <td>NaN</td>\n",
       "      <td>Art of Resume Building</td>\n",
       "      <td>2.213855e+09</td>\n",
       "      <td>NaN</td>\n",
       "      <td>Free Order</td>\n",
       "      <td>USD</td>\n",
       "      <td>0</td>\n",
       "      <td>...</td>\n",
       "      <td>Attending</td>\n",
       "      <td>D Y PATIL INSTITUTE OF MCA AND MANAGEMENT AKUR...</td>\n",
       "      <td>Email</td>\n",
       "      <td>NaN</td>\n",
       "      <td>Students</td>\n",
       "      <td>NaN</td>\n",
       "      <td>6.7</td>\n",
       "      <td>2</td>\n",
       "      <td>5</td>\n",
       "      <td>Placed</td>\n",
       "    </tr>\n",
       "    <tr>\n",
       "      <th>1</th>\n",
       "      <td>Dhanshree</td>\n",
       "      <td>dhanshree@xyz.com</td>\n",
       "      <td>1</td>\n",
       "      <td>NaN</td>\n",
       "      <td>Art of Resume Building</td>\n",
       "      <td>2.213859e+09</td>\n",
       "      <td>NaN</td>\n",
       "      <td>Free Order</td>\n",
       "      <td>USD</td>\n",
       "      <td>0</td>\n",
       "      <td>...</td>\n",
       "      <td>Attending</td>\n",
       "      <td>AP SHAH INSTITUTE OF TECHNOLOGY</td>\n",
       "      <td>Others</td>\n",
       "      <td>College</td>\n",
       "      <td>Students</td>\n",
       "      <td>NaN</td>\n",
       "      <td>8.2</td>\n",
       "      <td>3</td>\n",
       "      <td>2</td>\n",
       "      <td>Not placed</td>\n",
       "    </tr>\n",
       "    <tr>\n",
       "      <th>2</th>\n",
       "      <td>Dhiraj</td>\n",
       "      <td>dhiraj@xyz.com</td>\n",
       "      <td>1</td>\n",
       "      <td>NaN</td>\n",
       "      <td>Art of Resume Building</td>\n",
       "      <td>2.213862e+09</td>\n",
       "      <td>NaN</td>\n",
       "      <td>Free Order</td>\n",
       "      <td>USD</td>\n",
       "      <td>0</td>\n",
       "      <td>...</td>\n",
       "      <td>Attending</td>\n",
       "      <td>Don Bosco College of Engineering Fatorda Goa</td>\n",
       "      <td>Email</td>\n",
       "      <td>NaN</td>\n",
       "      <td>Students</td>\n",
       "      <td>NaN</td>\n",
       "      <td>6.5</td>\n",
       "      <td>4</td>\n",
       "      <td>3</td>\n",
       "      <td>Not placed</td>\n",
       "    </tr>\n",
       "    <tr>\n",
       "      <th>3</th>\n",
       "      <td>Pooja</td>\n",
       "      <td>pooja@xyz.com</td>\n",
       "      <td>1</td>\n",
       "      <td>NaN</td>\n",
       "      <td>Art of Resume Building</td>\n",
       "      <td>2.213988e+09</td>\n",
       "      <td>NaN</td>\n",
       "      <td>Free Order</td>\n",
       "      <td>USD</td>\n",
       "      <td>0</td>\n",
       "      <td>...</td>\n",
       "      <td>Attending</td>\n",
       "      <td>Pillai College of Engineering New Panvel</td>\n",
       "      <td>Email</td>\n",
       "      <td>NaN</td>\n",
       "      <td>Students</td>\n",
       "      <td>NaN</td>\n",
       "      <td>8.7</td>\n",
       "      <td>2</td>\n",
       "      <td>5</td>\n",
       "      <td>Not placed</td>\n",
       "    </tr>\n",
       "    <tr>\n",
       "      <th>4</th>\n",
       "      <td>Aayush</td>\n",
       "      <td>aayush@xyz.com</td>\n",
       "      <td>1</td>\n",
       "      <td>NaN</td>\n",
       "      <td>Art of Resume Building</td>\n",
       "      <td>2.214567e+09</td>\n",
       "      <td>NaN</td>\n",
       "      <td>Free Order</td>\n",
       "      <td>USD</td>\n",
       "      <td>0</td>\n",
       "      <td>...</td>\n",
       "      <td>Attending</td>\n",
       "      <td>St Xavier's College</td>\n",
       "      <td>Instagram | LinkedIn | Cloud Counselage Website</td>\n",
       "      <td>NaN</td>\n",
       "      <td>Students</td>\n",
       "      <td>NaN</td>\n",
       "      <td>9.1</td>\n",
       "      <td>3</td>\n",
       "      <td>5</td>\n",
       "      <td>Placed</td>\n",
       "    </tr>\n",
       "  </tbody>\n",
       "</table>\n",
       "<p>5 rows × 23 columns</p>\n",
       "</div>"
      ],
      "text/plain": [
       "  First Name           Email ID  Quantity  Price Tier             Ticket Type  \\\n",
       "0     ANIKET     aniket@xyz.com         1         NaN  Art of Resume Building   \n",
       "1  Dhanshree  dhanshree@xyz.com         1         NaN  Art of Resume Building   \n",
       "2     Dhiraj     dhiraj@xyz.com         1         NaN  Art of Resume Building   \n",
       "3      Pooja      pooja@xyz.com         1         NaN  Art of Resume Building   \n",
       "4     Aayush     aayush@xyz.com         1         NaN  Art of Resume Building   \n",
       "\n",
       "     Attendee #  Group  Order Type Currency  Total Paid  ...  Attendee Status  \\\n",
       "0  2.213855e+09    NaN  Free Order      USD           0  ...        Attending   \n",
       "1  2.213859e+09    NaN  Free Order      USD           0  ...        Attending   \n",
       "2  2.213862e+09    NaN  Free Order      USD           0  ...        Attending   \n",
       "3  2.213988e+09    NaN  Free Order      USD           0  ...        Attending   \n",
       "4  2.214567e+09    NaN  Free Order      USD           0  ...        Attending   \n",
       "\n",
       "                                        College Name  \\\n",
       "0  D Y PATIL INSTITUTE OF MCA AND MANAGEMENT AKUR...   \n",
       "1                   AP SHAH INSTITUTE OF TECHNOLOGY    \n",
       "2       Don Bosco College of Engineering Fatorda Goa   \n",
       "3           Pillai College of Engineering New Panvel   \n",
       "4                               St Xavier's College    \n",
       "\n",
       "        How did you come to know about this event?  \\\n",
       "0                                            Email   \n",
       "1                                           Others   \n",
       "2                                            Email   \n",
       "3                                            Email   \n",
       "4  Instagram | LinkedIn | Cloud Counselage Website   \n",
       "\n",
       "  Specify in \"Others\" (how did you come to know about this event) Designation  \\\n",
       "0                                                NaN                 Students   \n",
       "1                                            College                 Students   \n",
       "2                                                NaN                 Students   \n",
       "3                                                NaN                 Students   \n",
       "4                                                NaN                 Students   \n",
       "\n",
       "  Year of Graduation CGPA Speaking Skills ML Knowledge  Placement Status  \n",
       "0                NaN  6.7               2            5            Placed  \n",
       "1                NaN  8.2               3            2        Not placed  \n",
       "2                NaN  6.5               4            3        Not placed  \n",
       "3                NaN  8.7               2            5        Not placed  \n",
       "4                NaN  9.1               3            5            Placed  \n",
       "\n",
       "[5 rows x 23 columns]"
      ]
     },
     "execution_count": 2,
     "metadata": {},
     "output_type": "execute_result"
    }
   ],
   "source": [
    "df_placement_train = pd.read_excel(\"../dataset/Prediction of Placement Status Data/01 Train Data.xlsx\")\n",
    "df_placement_train.head()"
   ]
  },
  {
   "cell_type": "code",
   "execution_count": 3,
   "id": "6db66def",
   "metadata": {},
   "outputs": [
    {
     "data": {
      "text/plain": [
       "(4894, 23)"
      ]
     },
     "execution_count": 3,
     "metadata": {},
     "output_type": "execute_result"
    }
   ],
   "source": [
    "df_placement_train.shape"
   ]
  },
  {
   "cell_type": "code",
   "execution_count": 4,
   "id": "ef190393",
   "metadata": {},
   "outputs": [
    {
     "name": "stdout",
     "output_type": "stream",
     "text": [
      "Count of duplicate rows based on Email column: 3585\n",
      "Number of rows after dropping duplicates: 1987\n"
     ]
    }
   ],
   "source": [
    "# Find duplicates based on the Email column\n",
    "duplicates = df_placement_train[df_placement_train.duplicated(subset='Email ID', keep=False)]\n",
    "\n",
    "# Display the count of duplicates\n",
    "print(\"Count of duplicate rows based on Email column:\", duplicates.shape[0])\n",
    "\n",
    "# Drop the duplicates, keeping the first occurrence\n",
    "df_placement_train = df_placement_train.drop_duplicates(subset='Email ID', keep='first')\n",
    "\n",
    "# Display the number of rows after dropping duplicates\n",
    "print(\"Number of rows after dropping duplicates:\", df_placement_train.shape[0])"
   ]
  },
  {
   "cell_type": "markdown",
   "id": "0c2bac8b",
   "metadata": {},
   "source": [
    "# Data Cleaning: Handle NA values"
   ]
  },
  {
   "cell_type": "code",
   "execution_count": 5,
   "id": "2180b969",
   "metadata": {},
   "outputs": [
    {
     "data": {
      "text/plain": [
       "Index(['First Name', 'Email ID', 'Quantity', 'Price Tier', 'Ticket Type',\n",
       "       'Attendee #', 'Group', 'Order Type', 'Currency', 'Total Paid',\n",
       "       'Fees Paid', 'Eventbrite Fees', 'Eventbrite Payment Processing',\n",
       "       'Attendee Status', 'College Name',\n",
       "       'How did you come to know about this event?',\n",
       "       'Specify in \"Others\" (how did you come to know about this event)',\n",
       "       'Designation', 'Year of Graduation', 'CGPA', 'Speaking Skills',\n",
       "       'ML Knowledge', 'Placement Status'],\n",
       "      dtype='object')"
      ]
     },
     "execution_count": 5,
     "metadata": {},
     "output_type": "execute_result"
    }
   ],
   "source": [
    "df_placement_train.columns"
   ]
  },
  {
   "cell_type": "code",
   "execution_count": 6,
   "id": "efb6069d",
   "metadata": {},
   "outputs": [
    {
     "data": {
      "text/plain": [
       "(1987, 6)"
      ]
     },
     "execution_count": 6,
     "metadata": {},
     "output_type": "execute_result"
    }
   ],
   "source": [
    "df_placement_train_dropped = df_placement_train.drop(['First Name', 'Email ID', 'Quantity', 'Price Tier', 'Attendee #', 'Group', 'Order Type', 'Currency', 'Total Paid',\n",
    "       'Fees Paid', 'Eventbrite Fees', 'Eventbrite Payment Processing','How did you come to know about this event?', 'How did you come to know about this event?',\n",
    "       'Specify in \"Others\" (how did you come to know about this event)',\n",
    "       'Designation','Year of Graduation','Ticket Type'], axis='columns')\n",
    "\n",
    "\n",
    "df_placement_train_dropped.shape"
   ]
  },
  {
   "cell_type": "code",
   "execution_count": 7,
   "id": "07be310c",
   "metadata": {},
   "outputs": [
    {
     "data": {
      "text/html": [
       "<div>\n",
       "<style scoped>\n",
       "    .dataframe tbody tr th:only-of-type {\n",
       "        vertical-align: middle;\n",
       "    }\n",
       "\n",
       "    .dataframe tbody tr th {\n",
       "        vertical-align: top;\n",
       "    }\n",
       "\n",
       "    .dataframe thead th {\n",
       "        text-align: right;\n",
       "    }\n",
       "</style>\n",
       "<table border=\"1\" class=\"dataframe\">\n",
       "  <thead>\n",
       "    <tr style=\"text-align: right;\">\n",
       "      <th></th>\n",
       "      <th>Attendee Status</th>\n",
       "      <th>College Name</th>\n",
       "      <th>CGPA</th>\n",
       "      <th>Speaking Skills</th>\n",
       "      <th>ML Knowledge</th>\n",
       "      <th>Placement Status</th>\n",
       "    </tr>\n",
       "  </thead>\n",
       "  <tbody>\n",
       "    <tr>\n",
       "      <th>0</th>\n",
       "      <td>Attending</td>\n",
       "      <td>D Y PATIL INSTITUTE OF MCA AND MANAGEMENT AKUR...</td>\n",
       "      <td>6.7</td>\n",
       "      <td>2</td>\n",
       "      <td>5</td>\n",
       "      <td>Placed</td>\n",
       "    </tr>\n",
       "    <tr>\n",
       "      <th>1</th>\n",
       "      <td>Attending</td>\n",
       "      <td>AP SHAH INSTITUTE OF TECHNOLOGY</td>\n",
       "      <td>8.2</td>\n",
       "      <td>3</td>\n",
       "      <td>2</td>\n",
       "      <td>Not placed</td>\n",
       "    </tr>\n",
       "    <tr>\n",
       "      <th>2</th>\n",
       "      <td>Attending</td>\n",
       "      <td>Don Bosco College of Engineering Fatorda Goa</td>\n",
       "      <td>6.5</td>\n",
       "      <td>4</td>\n",
       "      <td>3</td>\n",
       "      <td>Not placed</td>\n",
       "    </tr>\n",
       "    <tr>\n",
       "      <th>3</th>\n",
       "      <td>Attending</td>\n",
       "      <td>Pillai College of Engineering New Panvel</td>\n",
       "      <td>8.7</td>\n",
       "      <td>2</td>\n",
       "      <td>5</td>\n",
       "      <td>Not placed</td>\n",
       "    </tr>\n",
       "    <tr>\n",
       "      <th>4</th>\n",
       "      <td>Attending</td>\n",
       "      <td>St Xavier's College</td>\n",
       "      <td>9.1</td>\n",
       "      <td>3</td>\n",
       "      <td>5</td>\n",
       "      <td>Placed</td>\n",
       "    </tr>\n",
       "  </tbody>\n",
       "</table>\n",
       "</div>"
      ],
      "text/plain": [
       "  Attendee Status                                       College Name  CGPA  \\\n",
       "0       Attending  D Y PATIL INSTITUTE OF MCA AND MANAGEMENT AKUR...   6.7   \n",
       "1       Attending                   AP SHAH INSTITUTE OF TECHNOLOGY    8.2   \n",
       "2       Attending       Don Bosco College of Engineering Fatorda Goa   6.5   \n",
       "3       Attending           Pillai College of Engineering New Panvel   8.7   \n",
       "4       Attending                               St Xavier's College    9.1   \n",
       "\n",
       "   Speaking Skills  ML Knowledge Placement Status  \n",
       "0                2             5           Placed  \n",
       "1                3             2       Not placed  \n",
       "2                4             3       Not placed  \n",
       "3                2             5       Not placed  \n",
       "4                3             5           Placed  "
      ]
     },
     "execution_count": 7,
     "metadata": {},
     "output_type": "execute_result"
    }
   ],
   "source": [
    "df_placement_train_dropped.head()"
   ]
  },
  {
   "cell_type": "code",
   "execution_count": 8,
   "id": "c79b3f00",
   "metadata": {},
   "outputs": [
    {
     "data": {
      "text/plain": [
       "array(['Attending', 'NAN'], dtype=object)"
      ]
     },
     "execution_count": 8,
     "metadata": {},
     "output_type": "execute_result"
    }
   ],
   "source": [
    "df_placement_train_dropped['Attendee Status'].unique()"
   ]
  },
  {
   "cell_type": "code",
   "execution_count": 9,
   "id": "6f6f77ca",
   "metadata": {},
   "outputs": [
    {
     "data": {
      "text/plain": [
       "array(['Attending', 'Non-Attending'], dtype=object)"
      ]
     },
     "execution_count": 9,
     "metadata": {},
     "output_type": "execute_result"
    }
   ],
   "source": [
    "# Replacing 'NAN' with 'Non-Attending' in the 'Attendee Status' column\n",
    "df_placement_train_dropped['Attendee Status'] = df_placement_train_dropped['Attendee Status'].replace('NAN', 'Non-Attending')\n",
    "\n",
    "df_placement_train_dropped['Attendee Status'].unique()\n"
   ]
  },
  {
   "cell_type": "code",
   "execution_count": 10,
   "id": "ab04a163",
   "metadata": {},
   "outputs": [
    {
     "data": {
      "text/plain": [
       "array([1, 0], dtype=int64)"
      ]
     },
     "execution_count": 10,
     "metadata": {},
     "output_type": "execute_result"
    }
   ],
   "source": [
    "# Replacing 'Attending' with 1 and 'Non-Attending' with 0 in the 'Attendee Status' column\n",
    "df_placement_train_dropped['Attendee Status'] = df_placement_train_dropped['Attendee Status'].replace({\n",
    "    'Attending': 1,\n",
    "    'Non-Attending': 0\n",
    "})\n",
    "\n",
    "df_placement_train_dropped['Attendee Status'].unique()"
   ]
  },
  {
   "cell_type": "code",
   "execution_count": 11,
   "id": "94e732d1",
   "metadata": {},
   "outputs": [
    {
     "data": {
      "text/plain": [
       "array(['Placed', 'Not placed', nan], dtype=object)"
      ]
     },
     "execution_count": 11,
     "metadata": {},
     "output_type": "execute_result"
    }
   ],
   "source": [
    "df_placement_train_dropped['Placement Status'].unique()"
   ]
  },
  {
   "cell_type": "code",
   "execution_count": 12,
   "id": "f40cb6cc",
   "metadata": {},
   "outputs": [
    {
     "data": {
      "text/plain": [
       "array(['Placed', 'Not placed'], dtype=object)"
      ]
     },
     "execution_count": 12,
     "metadata": {},
     "output_type": "execute_result"
    }
   ],
   "source": [
    "# Replacing nan with 'Not placed' in the 'Placement Status' column\n",
    "df_placement_train_dropped['Placement Status'] = df_placement_train_dropped['Placement Status'].fillna('Not placed')\n",
    "\n",
    "df_placement_train_dropped['Placement Status'].unique()"
   ]
  },
  {
   "cell_type": "code",
   "execution_count": 13,
   "id": "392d2870",
   "metadata": {},
   "outputs": [
    {
     "data": {
      "text/plain": [
       "array([1, 0], dtype=int64)"
      ]
     },
     "execution_count": 13,
     "metadata": {},
     "output_type": "execute_result"
    }
   ],
   "source": [
    "df_placement_train_dropped['Placement Status'] = df_placement_train_dropped['Placement Status'].replace({\n",
    "    'Placed': 1,\n",
    "    'Not placed': 0\n",
    "})\n",
    "\n",
    "df_placement_train_dropped['Placement Status'].unique()"
   ]
  },
  {
   "cell_type": "code",
   "execution_count": 14,
   "id": "23ee363e",
   "metadata": {},
   "outputs": [
    {
     "data": {
      "text/plain": [
       "Attendee Status      0\n",
       "College Name        10\n",
       "CGPA                 0\n",
       "Speaking Skills      0\n",
       "ML Knowledge         0\n",
       "Placement Status     0\n",
       "dtype: int64"
      ]
     },
     "execution_count": 14,
     "metadata": {},
     "output_type": "execute_result"
    }
   ],
   "source": [
    "df_placement_train_dropped.isna().sum()"
   ]
  },
  {
   "cell_type": "code",
   "execution_count": 15,
   "id": "390546d1",
   "metadata": {},
   "outputs": [
    {
     "data": {
      "text/plain": [
       "(1987, 6)"
      ]
     },
     "execution_count": 15,
     "metadata": {},
     "output_type": "execute_result"
    }
   ],
   "source": [
    "df_placement_train_dropped.shape"
   ]
  },
  {
   "cell_type": "code",
   "execution_count": 16,
   "id": "0315bcfe",
   "metadata": {},
   "outputs": [
    {
     "data": {
      "text/plain": [
       "Attendee Status     0\n",
       "College Name        0\n",
       "CGPA                0\n",
       "Speaking Skills     0\n",
       "ML Knowledge        0\n",
       "Placement Status    0\n",
       "dtype: int64"
      ]
     },
     "execution_count": 16,
     "metadata": {},
     "output_type": "execute_result"
    }
   ],
   "source": [
    "df_placement_train_dropped_na = df_placement_train_dropped.dropna()\n",
    "df_placement_train_dropped_na.isna().sum()"
   ]
  },
  {
   "cell_type": "code",
   "execution_count": 17,
   "id": "60120ab0",
   "metadata": {},
   "outputs": [
    {
     "data": {
      "text/plain": [
       "(1977, 6)"
      ]
     },
     "execution_count": 17,
     "metadata": {},
     "output_type": "execute_result"
    }
   ],
   "source": [
    "df_placement_train_dropped_na.shape"
   ]
  },
  {
   "cell_type": "code",
   "execution_count": 18,
   "id": "e5653228",
   "metadata": {},
   "outputs": [
    {
     "data": {
      "text/plain": [
       "array([2, 3, 4, 5, 1], dtype=int64)"
      ]
     },
     "execution_count": 18,
     "metadata": {},
     "output_type": "execute_result"
    }
   ],
   "source": [
    "df_placement_train_dropped_na['Speaking Skills'].unique()"
   ]
  },
  {
   "cell_type": "code",
   "execution_count": 19,
   "id": "177c55cc",
   "metadata": {},
   "outputs": [
    {
     "data": {
      "text/plain": [
       "array([5, 2, 3, 4, 1], dtype=int64)"
      ]
     },
     "execution_count": 19,
     "metadata": {},
     "output_type": "execute_result"
    }
   ],
   "source": [
    "df_placement_train_dropped_na['ML Knowledge'].unique()"
   ]
  },
  {
   "cell_type": "code",
   "execution_count": 20,
   "id": "585f9c6c",
   "metadata": {},
   "outputs": [
    {
     "data": {
      "text/plain": [
       "array(['D Y PATIL INSTITUTE OF MCA AND MANAGEMENT AKURDI PUNE',\n",
       "       'AP SHAH INSTITUTE OF TECHNOLOGY ',\n",
       "       'Don Bosco College of Engineering Fatorda Goa',\n",
       "       'Pillai College of Engineering New Panvel', \"St Xavier's College \",\n",
       "       'Vidyalankar Institute of Technology, Mumbai',\n",
       "       'S.I.E.S. Graduate School Of Technology, Nerul, Navi Mumbai',\n",
       "       'G H Raisoni institut of engineering and technology pune',\n",
       "       'GOVERNMENT POLYTECHNIC GANDHINAGAR',\n",
       "       'B. K. Birla College of Arts, Science & Commerce (Autonomous), Kalyan',\n",
       "       'Vishwakarma Institute of Technology, Pune',\n",
       "       \"KLE Society's College of BCA, RLS Institute, Belagavi\",\n",
       "       'Priyadarshini college of engineering, Nagpur ',\n",
       "       'St.Francis Institute of Technology',\n",
       "       'New horizon institute of Technology and Management ',\n",
       "       'Late G. N. Sapkal College Of Engineering',\n",
       "       'Symbiosis Institute of Technology, Pune',\n",
       "       'MIT Academy Of Engineering ,Alandi',\n",
       "       'A. C. Patil College of Engineering', 'Wilson college ',\n",
       "       'LD College of engineering, Ahmedabad, Gujarat ',\n",
       "       \"DKTE Society's Textile And Engineering Institute Ichalkaranji\",\n",
       "       'THAKUR INSTITUTE OF MANAGEMENT STUDIES, CAREER DEVELOPMENT & RESEARCH - [TIMSCDR]',\n",
       "       'LOKMANYA TILAK COLLEGE OF ENGINEERING KOPARKHAIRANE NAVI MUMBAI',\n",
       "       'CHHATTISGARH SWAMI VIVEKANANDA TECHNICAL UNIVERSITY TEACHING DEPARTMENT BHILAI',\n",
       "       'Silicon Institute of Technology',\n",
       "       'ADHIYAMAAN COLLEGE OF ENGINEERING',\n",
       "       'chhattisgarh swami vivekananda technical university teaching department bhilai',\n",
       "       'silicon institute of technology',\n",
       "       'adhiyamaan college of engineering',\n",
       "       'pillai college of engineering new panvel',\n",
       "       'vidyalankar institute of technology, mumbai',\n",
       "       's.i.e.s. graduate school of technology, nerul, navi mumbai',\n",
       "       'b. k. birla college of arts, science & commerce (autonomous), kalyan',\n",
       "       \"kle society's college of bca, rls institute, belagavi\",\n",
       "       'g h raisoni institut of engineering and technology pune',\n",
       "       'government polytechnic gandhinagar',\n",
       "       'vishwakarma institute of technology, pune',\n",
       "       'priyadarshini college of engineering, nagpur ',\n",
       "       'late g. n. sapkal college of engineering',\n",
       "       'symbiosis institute of technology, pune',\n",
       "       'mit academy of engineering ,alandi', 'wilson college ',\n",
       "       'st.francis institute of technology',\n",
       "       'new horizon institute of technology and management ',\n",
       "       'a. c. patil college of engineering',\n",
       "       \"dkte society's textile and engineering institute ichalkaranji\",\n",
       "       'd y patil institute of mca and management akurdi pune',\n",
       "       'don bosco college of engineering fatorda goa',\n",
       "       \"st xavier's college \",\n",
       "       'ld college of engineering, ahmedabad, gujarat ',\n",
       "       'lokmanya tilak college of engineering koparkhairane navi mumbai',\n",
       "       'ap shah institute of technology ',\n",
       "       'thakur institute of management studies, career development & research - [timscdr]',\n",
       "       'na'], dtype=object)"
      ]
     },
     "execution_count": 20,
     "metadata": {},
     "output_type": "execute_result"
    }
   ],
   "source": [
    "df_placement_train_dropped_na['College Name'].unique()"
   ]
  },
  {
   "cell_type": "code",
   "execution_count": 21,
   "id": "38f0dc31",
   "metadata": {},
   "outputs": [
    {
     "name": "stdout",
     "output_type": "stream",
     "text": [
      "The unique sum of 'College Name' values in the filtered train dataset is: 54\n"
     ]
    }
   ],
   "source": [
    "# Filter out rows where 'College Name' is 'na'\n",
    "df_placement_train_filtered = df_placement_train_dropped_na[df_placement_train_dropped_na['College Name'] != 'na']\n",
    "\n",
    "unique_college_names_train_filtered = df_placement_train_filtered['College Name'].unique()\n",
    "print(\"The unique sum of 'College Name' values in the filtered train dataset is:\", len(unique_college_names_train_filtered))"
   ]
  },
  {
   "cell_type": "code",
   "execution_count": 22,
   "id": "4297bf95",
   "metadata": {},
   "outputs": [
    {
     "name": "stderr",
     "output_type": "stream",
     "text": [
      "C:\\Users\\mansh\\AppData\\Local\\Temp\\ipykernel_3632\\3345167773.py:1: SettingWithCopyWarning: \n",
      "A value is trying to be set on a copy of a slice from a DataFrame.\n",
      "Try using .loc[row_indexer,col_indexer] = value instead\n",
      "\n",
      "See the caveats in the documentation: https://pandas.pydata.org/pandas-docs/stable/user_guide/indexing.html#returning-a-view-versus-a-copy\n",
      "  df_placement_train_filtered['College Name'] = df_placement_train_filtered['College Name'].str.strip()\n"
     ]
    }
   ],
   "source": [
    "df_placement_train_filtered['College Name'] = df_placement_train_filtered['College Name'].str.strip()"
   ]
  },
  {
   "cell_type": "code",
   "execution_count": 23,
   "id": "63af00f7",
   "metadata": {},
   "outputs": [
    {
     "name": "stdout",
     "output_type": "stream",
     "text": [
      "Unique college names stored in college_names.json\n"
     ]
    }
   ],
   "source": [
    "import json\n",
    "unique_colleges = df_placement_train_filtered['College Name'].unique()\n",
    "\n",
    "json_file_path = 'college_names.json'\n",
    "\n",
    "with open(json_file_path, 'w') as f:\n",
    "    json.dump({'college_names': list(unique_colleges)}, f, indent=4)\n",
    "\n",
    "print(f'Unique college names stored in {json_file_path}')"
   ]
  },
  {
   "cell_type": "markdown",
   "id": "3a7011ec",
   "metadata": {},
   "source": [
    "## Using One Hot Encoding For College Name"
   ]
  },
  {
   "cell_type": "code",
   "execution_count": 24,
   "id": "41685843",
   "metadata": {},
   "outputs": [
    {
     "data": {
      "text/plain": [
       "(1975, 54)"
      ]
     },
     "execution_count": 24,
     "metadata": {},
     "output_type": "execute_result"
    }
   ],
   "source": [
    "dummies_train = pd.get_dummies(df_placement_train_filtered['College Name'])\n",
    "dummies_train.shape"
   ]
  },
  {
   "cell_type": "code",
   "execution_count": 25,
   "id": "de06ea14",
   "metadata": {},
   "outputs": [
    {
     "data": {
      "text/html": [
       "<div>\n",
       "<style scoped>\n",
       "    .dataframe tbody tr th:only-of-type {\n",
       "        vertical-align: middle;\n",
       "    }\n",
       "\n",
       "    .dataframe tbody tr th {\n",
       "        vertical-align: top;\n",
       "    }\n",
       "\n",
       "    .dataframe thead th {\n",
       "        text-align: right;\n",
       "    }\n",
       "</style>\n",
       "<table border=\"1\" class=\"dataframe\">\n",
       "  <thead>\n",
       "    <tr style=\"text-align: right;\">\n",
       "      <th></th>\n",
       "      <th>Attendee Status</th>\n",
       "      <th>College Name</th>\n",
       "      <th>CGPA</th>\n",
       "      <th>Speaking Skills</th>\n",
       "      <th>ML Knowledge</th>\n",
       "      <th>Placement Status</th>\n",
       "      <th>A. C. Patil College of Engineering</th>\n",
       "      <th>ADHIYAMAAN COLLEGE OF ENGINEERING</th>\n",
       "      <th>AP SHAH INSTITUTE OF TECHNOLOGY</th>\n",
       "      <th>B. K. Birla College of Arts, Science &amp; Commerce (Autonomous), Kalyan</th>\n",
       "      <th>...</th>\n",
       "      <th>priyadarshini college of engineering, nagpur</th>\n",
       "      <th>s.i.e.s. graduate school of technology, nerul, navi mumbai</th>\n",
       "      <th>silicon institute of technology</th>\n",
       "      <th>st xavier's college</th>\n",
       "      <th>st.francis institute of technology</th>\n",
       "      <th>symbiosis institute of technology, pune</th>\n",
       "      <th>thakur institute of management studies, career development &amp; research - [timscdr]</th>\n",
       "      <th>vidyalankar institute of technology, mumbai</th>\n",
       "      <th>vishwakarma institute of technology, pune</th>\n",
       "      <th>wilson college</th>\n",
       "    </tr>\n",
       "  </thead>\n",
       "  <tbody>\n",
       "    <tr>\n",
       "      <th>0</th>\n",
       "      <td>1</td>\n",
       "      <td>D Y PATIL INSTITUTE OF MCA AND MANAGEMENT AKUR...</td>\n",
       "      <td>6.7</td>\n",
       "      <td>2</td>\n",
       "      <td>5</td>\n",
       "      <td>1</td>\n",
       "      <td>0</td>\n",
       "      <td>0</td>\n",
       "      <td>0</td>\n",
       "      <td>0</td>\n",
       "      <td>...</td>\n",
       "      <td>0</td>\n",
       "      <td>0</td>\n",
       "      <td>0</td>\n",
       "      <td>0</td>\n",
       "      <td>0</td>\n",
       "      <td>0</td>\n",
       "      <td>0</td>\n",
       "      <td>0</td>\n",
       "      <td>0</td>\n",
       "      <td>0</td>\n",
       "    </tr>\n",
       "    <tr>\n",
       "      <th>1</th>\n",
       "      <td>1</td>\n",
       "      <td>AP SHAH INSTITUTE OF TECHNOLOGY</td>\n",
       "      <td>8.2</td>\n",
       "      <td>3</td>\n",
       "      <td>2</td>\n",
       "      <td>0</td>\n",
       "      <td>0</td>\n",
       "      <td>0</td>\n",
       "      <td>1</td>\n",
       "      <td>0</td>\n",
       "      <td>...</td>\n",
       "      <td>0</td>\n",
       "      <td>0</td>\n",
       "      <td>0</td>\n",
       "      <td>0</td>\n",
       "      <td>0</td>\n",
       "      <td>0</td>\n",
       "      <td>0</td>\n",
       "      <td>0</td>\n",
       "      <td>0</td>\n",
       "      <td>0</td>\n",
       "    </tr>\n",
       "    <tr>\n",
       "      <th>2</th>\n",
       "      <td>1</td>\n",
       "      <td>Don Bosco College of Engineering Fatorda Goa</td>\n",
       "      <td>6.5</td>\n",
       "      <td>4</td>\n",
       "      <td>3</td>\n",
       "      <td>0</td>\n",
       "      <td>0</td>\n",
       "      <td>0</td>\n",
       "      <td>0</td>\n",
       "      <td>0</td>\n",
       "      <td>...</td>\n",
       "      <td>0</td>\n",
       "      <td>0</td>\n",
       "      <td>0</td>\n",
       "      <td>0</td>\n",
       "      <td>0</td>\n",
       "      <td>0</td>\n",
       "      <td>0</td>\n",
       "      <td>0</td>\n",
       "      <td>0</td>\n",
       "      <td>0</td>\n",
       "    </tr>\n",
       "    <tr>\n",
       "      <th>3</th>\n",
       "      <td>1</td>\n",
       "      <td>Pillai College of Engineering New Panvel</td>\n",
       "      <td>8.7</td>\n",
       "      <td>2</td>\n",
       "      <td>5</td>\n",
       "      <td>0</td>\n",
       "      <td>0</td>\n",
       "      <td>0</td>\n",
       "      <td>0</td>\n",
       "      <td>0</td>\n",
       "      <td>...</td>\n",
       "      <td>0</td>\n",
       "      <td>0</td>\n",
       "      <td>0</td>\n",
       "      <td>0</td>\n",
       "      <td>0</td>\n",
       "      <td>0</td>\n",
       "      <td>0</td>\n",
       "      <td>0</td>\n",
       "      <td>0</td>\n",
       "      <td>0</td>\n",
       "    </tr>\n",
       "    <tr>\n",
       "      <th>4</th>\n",
       "      <td>1</td>\n",
       "      <td>St Xavier's College</td>\n",
       "      <td>9.1</td>\n",
       "      <td>3</td>\n",
       "      <td>5</td>\n",
       "      <td>1</td>\n",
       "      <td>0</td>\n",
       "      <td>0</td>\n",
       "      <td>0</td>\n",
       "      <td>0</td>\n",
       "      <td>...</td>\n",
       "      <td>0</td>\n",
       "      <td>0</td>\n",
       "      <td>0</td>\n",
       "      <td>0</td>\n",
       "      <td>0</td>\n",
       "      <td>0</td>\n",
       "      <td>0</td>\n",
       "      <td>0</td>\n",
       "      <td>0</td>\n",
       "      <td>0</td>\n",
       "    </tr>\n",
       "  </tbody>\n",
       "</table>\n",
       "<p>5 rows × 60 columns</p>\n",
       "</div>"
      ],
      "text/plain": [
       "   Attendee Status                                       College Name  CGPA  \\\n",
       "0                1  D Y PATIL INSTITUTE OF MCA AND MANAGEMENT AKUR...   6.7   \n",
       "1                1                    AP SHAH INSTITUTE OF TECHNOLOGY   8.2   \n",
       "2                1       Don Bosco College of Engineering Fatorda Goa   6.5   \n",
       "3                1           Pillai College of Engineering New Panvel   8.7   \n",
       "4                1                                St Xavier's College   9.1   \n",
       "\n",
       "   Speaking Skills  ML Knowledge  Placement Status  \\\n",
       "0                2             5                 1   \n",
       "1                3             2                 0   \n",
       "2                4             3                 0   \n",
       "3                2             5                 0   \n",
       "4                3             5                 1   \n",
       "\n",
       "   A. C. Patil College of Engineering  ADHIYAMAAN COLLEGE OF ENGINEERING  \\\n",
       "0                                   0                                  0   \n",
       "1                                   0                                  0   \n",
       "2                                   0                                  0   \n",
       "3                                   0                                  0   \n",
       "4                                   0                                  0   \n",
       "\n",
       "   AP SHAH INSTITUTE OF TECHNOLOGY  \\\n",
       "0                                0   \n",
       "1                                1   \n",
       "2                                0   \n",
       "3                                0   \n",
       "4                                0   \n",
       "\n",
       "   B. K. Birla College of Arts, Science & Commerce (Autonomous), Kalyan  ...  \\\n",
       "0                                                  0                     ...   \n",
       "1                                                  0                     ...   \n",
       "2                                                  0                     ...   \n",
       "3                                                  0                     ...   \n",
       "4                                                  0                     ...   \n",
       "\n",
       "   priyadarshini college of engineering, nagpur  \\\n",
       "0                                             0   \n",
       "1                                             0   \n",
       "2                                             0   \n",
       "3                                             0   \n",
       "4                                             0   \n",
       "\n",
       "   s.i.e.s. graduate school of technology, nerul, navi mumbai  \\\n",
       "0                                                  0            \n",
       "1                                                  0            \n",
       "2                                                  0            \n",
       "3                                                  0            \n",
       "4                                                  0            \n",
       "\n",
       "   silicon institute of technology  st xavier's college  \\\n",
       "0                                0                    0   \n",
       "1                                0                    0   \n",
       "2                                0                    0   \n",
       "3                                0                    0   \n",
       "4                                0                    0   \n",
       "\n",
       "   st.francis institute of technology  \\\n",
       "0                                   0   \n",
       "1                                   0   \n",
       "2                                   0   \n",
       "3                                   0   \n",
       "4                                   0   \n",
       "\n",
       "   symbiosis institute of technology, pune  \\\n",
       "0                                        0   \n",
       "1                                        0   \n",
       "2                                        0   \n",
       "3                                        0   \n",
       "4                                        0   \n",
       "\n",
       "   thakur institute of management studies, career development & research - [timscdr]  \\\n",
       "0                                                  0                                   \n",
       "1                                                  0                                   \n",
       "2                                                  0                                   \n",
       "3                                                  0                                   \n",
       "4                                                  0                                   \n",
       "\n",
       "   vidyalankar institute of technology, mumbai  \\\n",
       "0                                            0   \n",
       "1                                            0   \n",
       "2                                            0   \n",
       "3                                            0   \n",
       "4                                            0   \n",
       "\n",
       "   vishwakarma institute of technology, pune  wilson college  \n",
       "0                                          0               0  \n",
       "1                                          0               0  \n",
       "2                                          0               0  \n",
       "3                                          0               0  \n",
       "4                                          0               0  \n",
       "\n",
       "[5 rows x 60 columns]"
      ]
     },
     "execution_count": 25,
     "metadata": {},
     "output_type": "execute_result"
    }
   ],
   "source": [
    "df_final_train = pd.concat([df_placement_train_filtered, dummies_train], axis='columns')\n",
    "df_final_train.head()"
   ]
  },
  {
   "cell_type": "code",
   "execution_count": 26,
   "id": "2a2ed0e6",
   "metadata": {},
   "outputs": [
    {
     "data": {
      "text/plain": [
       "(1975, 59)"
      ]
     },
     "execution_count": 26,
     "metadata": {},
     "output_type": "execute_result"
    }
   ],
   "source": [
    "df_final_train1 = df_final_train.drop(['College Name'], axis='columns')\n",
    "\n",
    "df_final_train1.shape"
   ]
  },
  {
   "cell_type": "code",
   "execution_count": 27,
   "id": "dc932c80",
   "metadata": {},
   "outputs": [
    {
     "data": {
      "text/html": [
       "<div>\n",
       "<style scoped>\n",
       "    .dataframe tbody tr th:only-of-type {\n",
       "        vertical-align: middle;\n",
       "    }\n",
       "\n",
       "    .dataframe tbody tr th {\n",
       "        vertical-align: top;\n",
       "    }\n",
       "\n",
       "    .dataframe thead th {\n",
       "        text-align: right;\n",
       "    }\n",
       "</style>\n",
       "<table border=\"1\" class=\"dataframe\">\n",
       "  <thead>\n",
       "    <tr style=\"text-align: right;\">\n",
       "      <th></th>\n",
       "      <th>Attendee Status</th>\n",
       "      <th>CGPA</th>\n",
       "      <th>Speaking Skills</th>\n",
       "      <th>ML Knowledge</th>\n",
       "      <th>Placement Status</th>\n",
       "      <th>A. C. Patil College of Engineering</th>\n",
       "      <th>ADHIYAMAAN COLLEGE OF ENGINEERING</th>\n",
       "      <th>AP SHAH INSTITUTE OF TECHNOLOGY</th>\n",
       "      <th>B. K. Birla College of Arts, Science &amp; Commerce (Autonomous), Kalyan</th>\n",
       "      <th>CHHATTISGARH SWAMI VIVEKANANDA TECHNICAL UNIVERSITY TEACHING DEPARTMENT BHILAI</th>\n",
       "      <th>...</th>\n",
       "      <th>priyadarshini college of engineering, nagpur</th>\n",
       "      <th>s.i.e.s. graduate school of technology, nerul, navi mumbai</th>\n",
       "      <th>silicon institute of technology</th>\n",
       "      <th>st xavier's college</th>\n",
       "      <th>st.francis institute of technology</th>\n",
       "      <th>symbiosis institute of technology, pune</th>\n",
       "      <th>thakur institute of management studies, career development &amp; research - [timscdr]</th>\n",
       "      <th>vidyalankar institute of technology, mumbai</th>\n",
       "      <th>vishwakarma institute of technology, pune</th>\n",
       "      <th>wilson college</th>\n",
       "    </tr>\n",
       "  </thead>\n",
       "  <tbody>\n",
       "    <tr>\n",
       "      <th>0</th>\n",
       "      <td>1</td>\n",
       "      <td>6.7</td>\n",
       "      <td>2</td>\n",
       "      <td>5</td>\n",
       "      <td>1</td>\n",
       "      <td>0</td>\n",
       "      <td>0</td>\n",
       "      <td>0</td>\n",
       "      <td>0</td>\n",
       "      <td>0</td>\n",
       "      <td>...</td>\n",
       "      <td>0</td>\n",
       "      <td>0</td>\n",
       "      <td>0</td>\n",
       "      <td>0</td>\n",
       "      <td>0</td>\n",
       "      <td>0</td>\n",
       "      <td>0</td>\n",
       "      <td>0</td>\n",
       "      <td>0</td>\n",
       "      <td>0</td>\n",
       "    </tr>\n",
       "    <tr>\n",
       "      <th>1</th>\n",
       "      <td>1</td>\n",
       "      <td>8.2</td>\n",
       "      <td>3</td>\n",
       "      <td>2</td>\n",
       "      <td>0</td>\n",
       "      <td>0</td>\n",
       "      <td>0</td>\n",
       "      <td>1</td>\n",
       "      <td>0</td>\n",
       "      <td>0</td>\n",
       "      <td>...</td>\n",
       "      <td>0</td>\n",
       "      <td>0</td>\n",
       "      <td>0</td>\n",
       "      <td>0</td>\n",
       "      <td>0</td>\n",
       "      <td>0</td>\n",
       "      <td>0</td>\n",
       "      <td>0</td>\n",
       "      <td>0</td>\n",
       "      <td>0</td>\n",
       "    </tr>\n",
       "    <tr>\n",
       "      <th>2</th>\n",
       "      <td>1</td>\n",
       "      <td>6.5</td>\n",
       "      <td>4</td>\n",
       "      <td>3</td>\n",
       "      <td>0</td>\n",
       "      <td>0</td>\n",
       "      <td>0</td>\n",
       "      <td>0</td>\n",
       "      <td>0</td>\n",
       "      <td>0</td>\n",
       "      <td>...</td>\n",
       "      <td>0</td>\n",
       "      <td>0</td>\n",
       "      <td>0</td>\n",
       "      <td>0</td>\n",
       "      <td>0</td>\n",
       "      <td>0</td>\n",
       "      <td>0</td>\n",
       "      <td>0</td>\n",
       "      <td>0</td>\n",
       "      <td>0</td>\n",
       "    </tr>\n",
       "    <tr>\n",
       "      <th>3</th>\n",
       "      <td>1</td>\n",
       "      <td>8.7</td>\n",
       "      <td>2</td>\n",
       "      <td>5</td>\n",
       "      <td>0</td>\n",
       "      <td>0</td>\n",
       "      <td>0</td>\n",
       "      <td>0</td>\n",
       "      <td>0</td>\n",
       "      <td>0</td>\n",
       "      <td>...</td>\n",
       "      <td>0</td>\n",
       "      <td>0</td>\n",
       "      <td>0</td>\n",
       "      <td>0</td>\n",
       "      <td>0</td>\n",
       "      <td>0</td>\n",
       "      <td>0</td>\n",
       "      <td>0</td>\n",
       "      <td>0</td>\n",
       "      <td>0</td>\n",
       "    </tr>\n",
       "    <tr>\n",
       "      <th>4</th>\n",
       "      <td>1</td>\n",
       "      <td>9.1</td>\n",
       "      <td>3</td>\n",
       "      <td>5</td>\n",
       "      <td>1</td>\n",
       "      <td>0</td>\n",
       "      <td>0</td>\n",
       "      <td>0</td>\n",
       "      <td>0</td>\n",
       "      <td>0</td>\n",
       "      <td>...</td>\n",
       "      <td>0</td>\n",
       "      <td>0</td>\n",
       "      <td>0</td>\n",
       "      <td>0</td>\n",
       "      <td>0</td>\n",
       "      <td>0</td>\n",
       "      <td>0</td>\n",
       "      <td>0</td>\n",
       "      <td>0</td>\n",
       "      <td>0</td>\n",
       "    </tr>\n",
       "  </tbody>\n",
       "</table>\n",
       "<p>5 rows × 59 columns</p>\n",
       "</div>"
      ],
      "text/plain": [
       "   Attendee Status  CGPA  Speaking Skills  ML Knowledge  Placement Status  \\\n",
       "0                1   6.7                2             5                 1   \n",
       "1                1   8.2                3             2                 0   \n",
       "2                1   6.5                4             3                 0   \n",
       "3                1   8.7                2             5                 0   \n",
       "4                1   9.1                3             5                 1   \n",
       "\n",
       "   A. C. Patil College of Engineering  ADHIYAMAAN COLLEGE OF ENGINEERING  \\\n",
       "0                                   0                                  0   \n",
       "1                                   0                                  0   \n",
       "2                                   0                                  0   \n",
       "3                                   0                                  0   \n",
       "4                                   0                                  0   \n",
       "\n",
       "   AP SHAH INSTITUTE OF TECHNOLOGY  \\\n",
       "0                                0   \n",
       "1                                1   \n",
       "2                                0   \n",
       "3                                0   \n",
       "4                                0   \n",
       "\n",
       "   B. K. Birla College of Arts, Science & Commerce (Autonomous), Kalyan  \\\n",
       "0                                                  0                      \n",
       "1                                                  0                      \n",
       "2                                                  0                      \n",
       "3                                                  0                      \n",
       "4                                                  0                      \n",
       "\n",
       "   CHHATTISGARH SWAMI VIVEKANANDA TECHNICAL UNIVERSITY TEACHING DEPARTMENT BHILAI  \\\n",
       "0                                                  0                                \n",
       "1                                                  0                                \n",
       "2                                                  0                                \n",
       "3                                                  0                                \n",
       "4                                                  0                                \n",
       "\n",
       "   ...  priyadarshini college of engineering, nagpur  \\\n",
       "0  ...                                             0   \n",
       "1  ...                                             0   \n",
       "2  ...                                             0   \n",
       "3  ...                                             0   \n",
       "4  ...                                             0   \n",
       "\n",
       "   s.i.e.s. graduate school of technology, nerul, navi mumbai  \\\n",
       "0                                                  0            \n",
       "1                                                  0            \n",
       "2                                                  0            \n",
       "3                                                  0            \n",
       "4                                                  0            \n",
       "\n",
       "   silicon institute of technology  st xavier's college  \\\n",
       "0                                0                    0   \n",
       "1                                0                    0   \n",
       "2                                0                    0   \n",
       "3                                0                    0   \n",
       "4                                0                    0   \n",
       "\n",
       "   st.francis institute of technology  \\\n",
       "0                                   0   \n",
       "1                                   0   \n",
       "2                                   0   \n",
       "3                                   0   \n",
       "4                                   0   \n",
       "\n",
       "   symbiosis institute of technology, pune  \\\n",
       "0                                        0   \n",
       "1                                        0   \n",
       "2                                        0   \n",
       "3                                        0   \n",
       "4                                        0   \n",
       "\n",
       "   thakur institute of management studies, career development & research - [timscdr]  \\\n",
       "0                                                  0                                   \n",
       "1                                                  0                                   \n",
       "2                                                  0                                   \n",
       "3                                                  0                                   \n",
       "4                                                  0                                   \n",
       "\n",
       "   vidyalankar institute of technology, mumbai  \\\n",
       "0                                            0   \n",
       "1                                            0   \n",
       "2                                            0   \n",
       "3                                            0   \n",
       "4                                            0   \n",
       "\n",
       "   vishwakarma institute of technology, pune  wilson college  \n",
       "0                                          0               0  \n",
       "1                                          0               0  \n",
       "2                                          0               0  \n",
       "3                                          0               0  \n",
       "4                                          0               0  \n",
       "\n",
       "[5 rows x 59 columns]"
      ]
     },
     "execution_count": 27,
     "metadata": {},
     "output_type": "execute_result"
    }
   ],
   "source": [
    "df_final_train1.head()"
   ]
  },
  {
   "cell_type": "code",
   "execution_count": 28,
   "id": "3d4afb9b",
   "metadata": {},
   "outputs": [
    {
     "data": {
      "text/html": [
       "<div>\n",
       "<style scoped>\n",
       "    .dataframe tbody tr th:only-of-type {\n",
       "        vertical-align: middle;\n",
       "    }\n",
       "\n",
       "    .dataframe tbody tr th {\n",
       "        vertical-align: top;\n",
       "    }\n",
       "\n",
       "    .dataframe thead th {\n",
       "        text-align: right;\n",
       "    }\n",
       "</style>\n",
       "<table border=\"1\" class=\"dataframe\">\n",
       "  <thead>\n",
       "    <tr style=\"text-align: right;\">\n",
       "      <th></th>\n",
       "      <th>Attendee Status</th>\n",
       "      <th>CGPA</th>\n",
       "      <th>Speaking Skills</th>\n",
       "      <th>ML Knowledge</th>\n",
       "      <th>A. C. Patil College of Engineering</th>\n",
       "      <th>ADHIYAMAAN COLLEGE OF ENGINEERING</th>\n",
       "      <th>AP SHAH INSTITUTE OF TECHNOLOGY</th>\n",
       "      <th>B. K. Birla College of Arts, Science &amp; Commerce (Autonomous), Kalyan</th>\n",
       "      <th>CHHATTISGARH SWAMI VIVEKANANDA TECHNICAL UNIVERSITY TEACHING DEPARTMENT BHILAI</th>\n",
       "      <th>D Y PATIL INSTITUTE OF MCA AND MANAGEMENT AKURDI PUNE</th>\n",
       "      <th>...</th>\n",
       "      <th>priyadarshini college of engineering, nagpur</th>\n",
       "      <th>s.i.e.s. graduate school of technology, nerul, navi mumbai</th>\n",
       "      <th>silicon institute of technology</th>\n",
       "      <th>st xavier's college</th>\n",
       "      <th>st.francis institute of technology</th>\n",
       "      <th>symbiosis institute of technology, pune</th>\n",
       "      <th>thakur institute of management studies, career development &amp; research - [timscdr]</th>\n",
       "      <th>vidyalankar institute of technology, mumbai</th>\n",
       "      <th>vishwakarma institute of technology, pune</th>\n",
       "      <th>wilson college</th>\n",
       "    </tr>\n",
       "  </thead>\n",
       "  <tbody>\n",
       "    <tr>\n",
       "      <th>0</th>\n",
       "      <td>1</td>\n",
       "      <td>6.7</td>\n",
       "      <td>2</td>\n",
       "      <td>5</td>\n",
       "      <td>0</td>\n",
       "      <td>0</td>\n",
       "      <td>0</td>\n",
       "      <td>0</td>\n",
       "      <td>0</td>\n",
       "      <td>1</td>\n",
       "      <td>...</td>\n",
       "      <td>0</td>\n",
       "      <td>0</td>\n",
       "      <td>0</td>\n",
       "      <td>0</td>\n",
       "      <td>0</td>\n",
       "      <td>0</td>\n",
       "      <td>0</td>\n",
       "      <td>0</td>\n",
       "      <td>0</td>\n",
       "      <td>0</td>\n",
       "    </tr>\n",
       "    <tr>\n",
       "      <th>1</th>\n",
       "      <td>1</td>\n",
       "      <td>8.2</td>\n",
       "      <td>3</td>\n",
       "      <td>2</td>\n",
       "      <td>0</td>\n",
       "      <td>0</td>\n",
       "      <td>1</td>\n",
       "      <td>0</td>\n",
       "      <td>0</td>\n",
       "      <td>0</td>\n",
       "      <td>...</td>\n",
       "      <td>0</td>\n",
       "      <td>0</td>\n",
       "      <td>0</td>\n",
       "      <td>0</td>\n",
       "      <td>0</td>\n",
       "      <td>0</td>\n",
       "      <td>0</td>\n",
       "      <td>0</td>\n",
       "      <td>0</td>\n",
       "      <td>0</td>\n",
       "    </tr>\n",
       "    <tr>\n",
       "      <th>2</th>\n",
       "      <td>1</td>\n",
       "      <td>6.5</td>\n",
       "      <td>4</td>\n",
       "      <td>3</td>\n",
       "      <td>0</td>\n",
       "      <td>0</td>\n",
       "      <td>0</td>\n",
       "      <td>0</td>\n",
       "      <td>0</td>\n",
       "      <td>0</td>\n",
       "      <td>...</td>\n",
       "      <td>0</td>\n",
       "      <td>0</td>\n",
       "      <td>0</td>\n",
       "      <td>0</td>\n",
       "      <td>0</td>\n",
       "      <td>0</td>\n",
       "      <td>0</td>\n",
       "      <td>0</td>\n",
       "      <td>0</td>\n",
       "      <td>0</td>\n",
       "    </tr>\n",
       "  </tbody>\n",
       "</table>\n",
       "<p>3 rows × 58 columns</p>\n",
       "</div>"
      ],
      "text/plain": [
       "   Attendee Status  CGPA  Speaking Skills  ML Knowledge  \\\n",
       "0                1   6.7                2             5   \n",
       "1                1   8.2                3             2   \n",
       "2                1   6.5                4             3   \n",
       "\n",
       "   A. C. Patil College of Engineering  ADHIYAMAAN COLLEGE OF ENGINEERING  \\\n",
       "0                                   0                                  0   \n",
       "1                                   0                                  0   \n",
       "2                                   0                                  0   \n",
       "\n",
       "   AP SHAH INSTITUTE OF TECHNOLOGY  \\\n",
       "0                                0   \n",
       "1                                1   \n",
       "2                                0   \n",
       "\n",
       "   B. K. Birla College of Arts, Science & Commerce (Autonomous), Kalyan  \\\n",
       "0                                                  0                      \n",
       "1                                                  0                      \n",
       "2                                                  0                      \n",
       "\n",
       "   CHHATTISGARH SWAMI VIVEKANANDA TECHNICAL UNIVERSITY TEACHING DEPARTMENT BHILAI  \\\n",
       "0                                                  0                                \n",
       "1                                                  0                                \n",
       "2                                                  0                                \n",
       "\n",
       "   D Y PATIL INSTITUTE OF MCA AND MANAGEMENT AKURDI PUNE  ...  \\\n",
       "0                                                  1      ...   \n",
       "1                                                  0      ...   \n",
       "2                                                  0      ...   \n",
       "\n",
       "   priyadarshini college of engineering, nagpur  \\\n",
       "0                                             0   \n",
       "1                                             0   \n",
       "2                                             0   \n",
       "\n",
       "   s.i.e.s. graduate school of technology, nerul, navi mumbai  \\\n",
       "0                                                  0            \n",
       "1                                                  0            \n",
       "2                                                  0            \n",
       "\n",
       "   silicon institute of technology  st xavier's college  \\\n",
       "0                                0                    0   \n",
       "1                                0                    0   \n",
       "2                                0                    0   \n",
       "\n",
       "   st.francis institute of technology  \\\n",
       "0                                   0   \n",
       "1                                   0   \n",
       "2                                   0   \n",
       "\n",
       "   symbiosis institute of technology, pune  \\\n",
       "0                                        0   \n",
       "1                                        0   \n",
       "2                                        0   \n",
       "\n",
       "   thakur institute of management studies, career development & research - [timscdr]  \\\n",
       "0                                                  0                                   \n",
       "1                                                  0                                   \n",
       "2                                                  0                                   \n",
       "\n",
       "   vidyalankar institute of technology, mumbai  \\\n",
       "0                                            0   \n",
       "1                                            0   \n",
       "2                                            0   \n",
       "\n",
       "   vishwakarma institute of technology, pune  wilson college  \n",
       "0                                          0               0  \n",
       "1                                          0               0  \n",
       "2                                          0               0  \n",
       "\n",
       "[3 rows x 58 columns]"
      ]
     },
     "execution_count": 28,
     "metadata": {},
     "output_type": "execute_result"
    }
   ],
   "source": [
    "x = df_final_train1.drop(['Placement Status'], axis='columns')\n",
    "x.head(3)"
   ]
  },
  {
   "cell_type": "code",
   "execution_count": 29,
   "id": "e26591b1",
   "metadata": {},
   "outputs": [
    {
     "data": {
      "text/plain": [
       "0    1\n",
       "1    0\n",
       "2    0\n",
       "Name: Placement Status, dtype: int64"
      ]
     },
     "execution_count": 29,
     "metadata": {},
     "output_type": "execute_result"
    }
   ],
   "source": [
    "y = df_final_train1['Placement Status']\n",
    "y.head(3)"
   ]
  },
  {
   "cell_type": "markdown",
   "id": "4f83973c",
   "metadata": {},
   "source": [
    "# Model Training"
   ]
  },
  {
   "cell_type": "markdown",
   "id": "e81740d4",
   "metadata": {},
   "source": [
    "### Spliting Data into x_train, y_train, x_test, y_test for training the model"
   ]
  },
  {
   "cell_type": "code",
   "execution_count": 30,
   "id": "9271aad4",
   "metadata": {},
   "outputs": [],
   "source": [
    "from sklearn.model_selection import train_test_split\n",
    "x_train, x_test, y_train, y_test = train_test_split(x, y, test_size=0.2, random_state=20)"
   ]
  },
  {
   "cell_type": "code",
   "execution_count": 31,
   "id": "ec6ab647",
   "metadata": {},
   "outputs": [
    {
     "name": "stdout",
     "output_type": "stream",
     "text": [
      "1.2.2\n"
     ]
    }
   ],
   "source": [
    "from sklearn import tree\n",
    "import sklearn\n",
    "print(sklearn.__version__)\n",
    "model = tree.DecisionTreeClassifier()"
   ]
  },
  {
   "cell_type": "code",
   "execution_count": 32,
   "id": "587556fc",
   "metadata": {},
   "outputs": [
    {
     "data": {
      "text/html": [
       "<style>#sk-container-id-1 {color: black;background-color: white;}#sk-container-id-1 pre{padding: 0;}#sk-container-id-1 div.sk-toggleable {background-color: white;}#sk-container-id-1 label.sk-toggleable__label {cursor: pointer;display: block;width: 100%;margin-bottom: 0;padding: 0.3em;box-sizing: border-box;text-align: center;}#sk-container-id-1 label.sk-toggleable__label-arrow:before {content: \"▸\";float: left;margin-right: 0.25em;color: #696969;}#sk-container-id-1 label.sk-toggleable__label-arrow:hover:before {color: black;}#sk-container-id-1 div.sk-estimator:hover label.sk-toggleable__label-arrow:before {color: black;}#sk-container-id-1 div.sk-toggleable__content {max-height: 0;max-width: 0;overflow: hidden;text-align: left;background-color: #f0f8ff;}#sk-container-id-1 div.sk-toggleable__content pre {margin: 0.2em;color: black;border-radius: 0.25em;background-color: #f0f8ff;}#sk-container-id-1 input.sk-toggleable__control:checked~div.sk-toggleable__content {max-height: 200px;max-width: 100%;overflow: auto;}#sk-container-id-1 input.sk-toggleable__control:checked~label.sk-toggleable__label-arrow:before {content: \"▾\";}#sk-container-id-1 div.sk-estimator input.sk-toggleable__control:checked~label.sk-toggleable__label {background-color: #d4ebff;}#sk-container-id-1 div.sk-label input.sk-toggleable__control:checked~label.sk-toggleable__label {background-color: #d4ebff;}#sk-container-id-1 input.sk-hidden--visually {border: 0;clip: rect(1px 1px 1px 1px);clip: rect(1px, 1px, 1px, 1px);height: 1px;margin: -1px;overflow: hidden;padding: 0;position: absolute;width: 1px;}#sk-container-id-1 div.sk-estimator {font-family: monospace;background-color: #f0f8ff;border: 1px dotted black;border-radius: 0.25em;box-sizing: border-box;margin-bottom: 0.5em;}#sk-container-id-1 div.sk-estimator:hover {background-color: #d4ebff;}#sk-container-id-1 div.sk-parallel-item::after {content: \"\";width: 100%;border-bottom: 1px solid gray;flex-grow: 1;}#sk-container-id-1 div.sk-label:hover label.sk-toggleable__label {background-color: #d4ebff;}#sk-container-id-1 div.sk-serial::before {content: \"\";position: absolute;border-left: 1px solid gray;box-sizing: border-box;top: 0;bottom: 0;left: 50%;z-index: 0;}#sk-container-id-1 div.sk-serial {display: flex;flex-direction: column;align-items: center;background-color: white;padding-right: 0.2em;padding-left: 0.2em;position: relative;}#sk-container-id-1 div.sk-item {position: relative;z-index: 1;}#sk-container-id-1 div.sk-parallel {display: flex;align-items: stretch;justify-content: center;background-color: white;position: relative;}#sk-container-id-1 div.sk-item::before, #sk-container-id-1 div.sk-parallel-item::before {content: \"\";position: absolute;border-left: 1px solid gray;box-sizing: border-box;top: 0;bottom: 0;left: 50%;z-index: -1;}#sk-container-id-1 div.sk-parallel-item {display: flex;flex-direction: column;z-index: 1;position: relative;background-color: white;}#sk-container-id-1 div.sk-parallel-item:first-child::after {align-self: flex-end;width: 50%;}#sk-container-id-1 div.sk-parallel-item:last-child::after {align-self: flex-start;width: 50%;}#sk-container-id-1 div.sk-parallel-item:only-child::after {width: 0;}#sk-container-id-1 div.sk-dashed-wrapped {border: 1px dashed gray;margin: 0 0.4em 0.5em 0.4em;box-sizing: border-box;padding-bottom: 0.4em;background-color: white;}#sk-container-id-1 div.sk-label label {font-family: monospace;font-weight: bold;display: inline-block;line-height: 1.2em;}#sk-container-id-1 div.sk-label-container {text-align: center;}#sk-container-id-1 div.sk-container {/* jupyter's `normalize.less` sets `[hidden] { display: none; }` but bootstrap.min.css set `[hidden] { display: none !important; }` so we also need the `!important` here to be able to override the default hidden behavior on the sphinx rendered scikit-learn.org. See: https://github.com/scikit-learn/scikit-learn/issues/21755 */display: inline-block !important;position: relative;}#sk-container-id-1 div.sk-text-repr-fallback {display: none;}</style><div id=\"sk-container-id-1\" class=\"sk-top-container\"><div class=\"sk-text-repr-fallback\"><pre>DecisionTreeClassifier()</pre><b>In a Jupyter environment, please rerun this cell to show the HTML representation or trust the notebook. <br />On GitHub, the HTML representation is unable to render, please try loading this page with nbviewer.org.</b></div><div class=\"sk-container\" hidden><div class=\"sk-item\"><div class=\"sk-estimator sk-toggleable\"><input class=\"sk-toggleable__control sk-hidden--visually\" id=\"sk-estimator-id-1\" type=\"checkbox\" checked><label for=\"sk-estimator-id-1\" class=\"sk-toggleable__label sk-toggleable__label-arrow\">DecisionTreeClassifier</label><div class=\"sk-toggleable__content\"><pre>DecisionTreeClassifier()</pre></div></div></div></div></div>"
      ],
      "text/plain": [
       "DecisionTreeClassifier()"
      ]
     },
     "execution_count": 32,
     "metadata": {},
     "output_type": "execute_result"
    }
   ],
   "source": [
    "model.fit(x_train, y_train)"
   ]
  },
  {
   "cell_type": "code",
   "execution_count": 33,
   "id": "9e0becd8",
   "metadata": {},
   "outputs": [
    {
     "data": {
      "text/plain": [
       "0.8253164556962025"
      ]
     },
     "execution_count": 33,
     "metadata": {},
     "output_type": "execute_result"
    }
   ],
   "source": [
    "model.score(x_test, y_test)"
   ]
  },
  {
   "cell_type": "code",
   "execution_count": 34,
   "id": "39f69bc2",
   "metadata": {},
   "outputs": [
    {
     "name": "stdout",
     "output_type": "stream",
     "text": [
      "Model accuracy: 0.8253164556962025\n",
      "              precision    recall  f1-score   support\n",
      "\n",
      "           0       0.91      0.90      0.90       357\n",
      "           1       0.12      0.13      0.13        38\n",
      "\n",
      "    accuracy                           0.83       395\n",
      "   macro avg       0.51      0.52      0.51       395\n",
      "weighted avg       0.83      0.83      0.83       395\n",
      "\n",
      "Confusion Matrix:\n",
      "[[321  36]\n",
      " [ 33   5]]\n"
     ]
    }
   ],
   "source": [
    "from sklearn.metrics import accuracy_score\n",
    "y_pred = model.predict(x_test)\n",
    "print(\"Model accuracy:\", accuracy_score(y_test, y_pred))\n",
    "\n",
    "from sklearn.metrics import classification_report, confusion_matrix\n",
    "y_pred = model.predict(x_test)\n",
    "\n",
    "print(classification_report(y_test, y_pred))\n",
    "\n",
    "print(\"Confusion Matrix:\")\n",
    "print(confusion_matrix(y_test, y_pred))"
   ]
  },
  {
   "cell_type": "markdown",
   "id": "14cac11b",
   "metadata": {},
   "source": [
    "# Export the tested model to a pickle file"
   ]
  },
  {
   "cell_type": "code",
   "execution_count": 35,
   "id": "6d11a0c4",
   "metadata": {},
   "outputs": [],
   "source": [
    "import joblib\n",
    "\n",
    "with open('placement_prediction_model.pkl', 'wb') as f:\n",
    "    joblib.dump(model, f)\n"
   ]
  },
  {
   "cell_type": "markdown",
   "id": "e8643cd7",
   "metadata": {},
   "source": [
    "## Plotting top 10 colleges by Placement Count"
   ]
  },
  {
   "cell_type": "code",
   "execution_count": 36,
   "id": "8ca4a3ce",
   "metadata": {},
   "outputs": [
    {
     "data": {
      "image/png": "[encoded data removed]",
      "text/plain": [
       "<Figure size 1200x600 with 1 Axes>"
      ]
     },
     "metadata": {},
     "output_type": "display_data"
    },
    {
     "name": "stdout",
     "output_type": "stream",
     "text": [
      "                                         College Name  Placement Count\n",
      "16       Priyadarshini college of engineering, Nagpur               10\n",
      "0                  A. C. Patil College of Engineering                8\n",
      "8                  GOVERNMENT POLYTECHNIC GANDHINAGAR                8\n",
      "22        Vidyalankar Institute of Technology, Mumbai                8\n",
      "33      ld college of engineering, ahmedabad, gujarat                7\n",
      "21            Symbiosis Institute of Technology, Pune                7\n",
      "24                                     Wilson college                7\n",
      "31  kle society's college of bca, rls institute, b...                6\n",
      "9   KLE Society's College of BCA, RLS Institute, B...                6\n",
      "11  LOKMANYA TILAK COLLEGE OF ENGINEERING KOPARKHA...                6\n"
     ]
    }
   ],
   "source": [
    "import matplotlib.pyplot as plt\n",
    "import seaborn as sns\n",
    "\n",
    "placement_counts = df_final_train[df_final_train['Placement Status'] == 1].groupby('College Name').size().reset_index(name='Placement Count')\n",
    "\n",
    "top_10_colleges = placement_counts.sort_values(by='Placement Count', ascending=False).head(10)\n",
    "\n",
    "if not top_10_colleges.empty:\n",
    "    # Plotting the top 10 colleges\n",
    "    plt.figure(figsize=(12, 6))\n",
    "    sns.barplot(data=top_10_colleges, x='College Name', y='Placement Count', palette='viridis')\n",
    "    plt.title('Top 10 Colleges by Placement Count')\n",
    "    plt.xlabel('College Name')\n",
    "    plt.ylabel('Placement Count')\n",
    "    plt.xticks(rotation=45)\n",
    "    plt.tight_layout()\n",
    "    plt.show()\n",
    "else:\n",
    "    print(\"No data available to plot.\")\n",
    "\n",
    "print(top_10_colleges)\n"
   ]
  },
  {
   "cell_type": "markdown",
   "id": "f19dacd8",
   "metadata": {},
   "source": [
    "# Data Loading: Testing Data"
   ]
  },
  {
   "cell_type": "code",
   "execution_count": 37,
   "id": "01dc9af3",
   "metadata": {},
   "outputs": [
    {
     "data": {
      "text/html": [
       "<div>\n",
       "<style scoped>\n",
       "    .dataframe tbody tr th:only-of-type {\n",
       "        vertical-align: middle;\n",
       "    }\n",
       "\n",
       "    .dataframe tbody tr th {\n",
       "        vertical-align: top;\n",
       "    }\n",
       "\n",
       "    .dataframe thead th {\n",
       "        text-align: right;\n",
       "    }\n",
       "</style>\n",
       "<table border=\"1\" class=\"dataframe\">\n",
       "  <thead>\n",
       "    <tr style=\"text-align: right;\">\n",
       "      <th></th>\n",
       "      <th>First Name</th>\n",
       "      <th>Email ID</th>\n",
       "      <th>Quantity</th>\n",
       "      <th>Price Tier</th>\n",
       "      <th>Ticket Type</th>\n",
       "      <th>Attendee #</th>\n",
       "      <th>Group</th>\n",
       "      <th>Order Type</th>\n",
       "      <th>Currency</th>\n",
       "      <th>Total Paid</th>\n",
       "      <th>...</th>\n",
       "      <th>Attendee Status</th>\n",
       "      <th>College Name</th>\n",
       "      <th>How did you come to know about this event?</th>\n",
       "      <th>Specify in \"Others\" (how did you come to know about this event)</th>\n",
       "      <th>Designation</th>\n",
       "      <th>Year of Graduation</th>\n",
       "      <th>CGPA</th>\n",
       "      <th>Speaking Skills</th>\n",
       "      <th>ML Knowledge</th>\n",
       "      <th>Placement Status</th>\n",
       "    </tr>\n",
       "  </thead>\n",
       "  <tbody>\n",
       "    <tr>\n",
       "      <th>0</th>\n",
       "      <td>Sahil</td>\n",
       "      <td>sahil@xyz.com</td>\n",
       "      <td>1</td>\n",
       "      <td>NaN</td>\n",
       "      <td>Hello ML and DL</td>\n",
       "      <td>2.293940e+09</td>\n",
       "      <td>NaN</td>\n",
       "      <td>Free Order</td>\n",
       "      <td>USD</td>\n",
       "      <td>0</td>\n",
       "      <td>...</td>\n",
       "      <td>Attending</td>\n",
       "      <td>symbiosis institute of technology, pune</td>\n",
       "      <td>Whatsapp</td>\n",
       "      <td>NaN</td>\n",
       "      <td>Students</td>\n",
       "      <td>NaN</td>\n",
       "      <td>7.8</td>\n",
       "      <td>3</td>\n",
       "      <td>3</td>\n",
       "      <td>NaN</td>\n",
       "    </tr>\n",
       "    <tr>\n",
       "      <th>1</th>\n",
       "      <td>Amrita</td>\n",
       "      <td>amrita@xyz.com</td>\n",
       "      <td>1</td>\n",
       "      <td>NaN</td>\n",
       "      <td>Hello ML and DL</td>\n",
       "      <td>2.293941e+09</td>\n",
       "      <td>NaN</td>\n",
       "      <td>Free Order</td>\n",
       "      <td>USD</td>\n",
       "      <td>0</td>\n",
       "      <td>...</td>\n",
       "      <td>Attending</td>\n",
       "      <td>mit academy of engineering ,alandi</td>\n",
       "      <td>Whatsapp</td>\n",
       "      <td>NaN</td>\n",
       "      <td>Students</td>\n",
       "      <td>NaN</td>\n",
       "      <td>9.1</td>\n",
       "      <td>3</td>\n",
       "      <td>3</td>\n",
       "      <td>NaN</td>\n",
       "    </tr>\n",
       "    <tr>\n",
       "      <th>2</th>\n",
       "      <td>Mamta</td>\n",
       "      <td>mamta@xyz.com</td>\n",
       "      <td>1</td>\n",
       "      <td>NaN</td>\n",
       "      <td>Hello ML and DL</td>\n",
       "      <td>2.293941e+09</td>\n",
       "      <td>NaN</td>\n",
       "      <td>Free Order</td>\n",
       "      <td>USD</td>\n",
       "      <td>0</td>\n",
       "      <td>...</td>\n",
       "      <td>Attending</td>\n",
       "      <td>a. c. patil college of engineering</td>\n",
       "      <td>Whatsapp</td>\n",
       "      <td>NaN</td>\n",
       "      <td>Students</td>\n",
       "      <td>NaN</td>\n",
       "      <td>6.9</td>\n",
       "      <td>2</td>\n",
       "      <td>2</td>\n",
       "      <td>NaN</td>\n",
       "    </tr>\n",
       "    <tr>\n",
       "      <th>3</th>\n",
       "      <td>Bhagyashri</td>\n",
       "      <td>bhagyashri@xyz.com</td>\n",
       "      <td>1</td>\n",
       "      <td>NaN</td>\n",
       "      <td>Hello ML and DL</td>\n",
       "      <td>2.293946e+09</td>\n",
       "      <td>NaN</td>\n",
       "      <td>Free Order</td>\n",
       "      <td>USD</td>\n",
       "      <td>0</td>\n",
       "      <td>...</td>\n",
       "      <td>Attending</td>\n",
       "      <td>wilson college</td>\n",
       "      <td>Others</td>\n",
       "      <td>NaN</td>\n",
       "      <td>Students</td>\n",
       "      <td>NaN</td>\n",
       "      <td>8.4</td>\n",
       "      <td>4</td>\n",
       "      <td>4</td>\n",
       "      <td>NaN</td>\n",
       "    </tr>\n",
       "    <tr>\n",
       "      <th>4</th>\n",
       "      <td>Divyanshu</td>\n",
       "      <td>divyanshu@xyz.com</td>\n",
       "      <td>1</td>\n",
       "      <td>NaN</td>\n",
       "      <td>Hello ML and DL</td>\n",
       "      <td>2.293956e+09</td>\n",
       "      <td>NaN</td>\n",
       "      <td>Free Order</td>\n",
       "      <td>USD</td>\n",
       "      <td>0</td>\n",
       "      <td>...</td>\n",
       "      <td>Attending</td>\n",
       "      <td>ld college of engineering, ahmedabad, gujarat</td>\n",
       "      <td>Whatsapp</td>\n",
       "      <td>NaN</td>\n",
       "      <td>Students</td>\n",
       "      <td>NaN</td>\n",
       "      <td>6.7</td>\n",
       "      <td>5</td>\n",
       "      <td>5</td>\n",
       "      <td>NaN</td>\n",
       "    </tr>\n",
       "  </tbody>\n",
       "</table>\n",
       "<p>5 rows × 23 columns</p>\n",
       "</div>"
      ],
      "text/plain": [
       "   First Name            Email ID  Quantity  Price Tier      Ticket Type  \\\n",
       "0      Sahil        sahil@xyz.com         1         NaN  Hello ML and DL   \n",
       "1     Amrita       amrita@xyz.com         1         NaN  Hello ML and DL   \n",
       "2       Mamta       mamta@xyz.com         1         NaN  Hello ML and DL   \n",
       "3  Bhagyashri  bhagyashri@xyz.com         1         NaN  Hello ML and DL   \n",
       "4   Divyanshu   divyanshu@xyz.com         1         NaN  Hello ML and DL   \n",
       "\n",
       "     Attendee #  Group  Order Type Currency  Total Paid  ...  Attendee Status  \\\n",
       "0  2.293940e+09    NaN  Free Order      USD           0  ...        Attending   \n",
       "1  2.293941e+09    NaN  Free Order      USD           0  ...        Attending   \n",
       "2  2.293941e+09    NaN  Free Order      USD           0  ...        Attending   \n",
       "3  2.293946e+09    NaN  Free Order      USD           0  ...        Attending   \n",
       "4  2.293956e+09    NaN  Free Order      USD           0  ...        Attending   \n",
       "\n",
       "                                     College Name  \\\n",
       "0         symbiosis institute of technology, pune   \n",
       "1              mit academy of engineering ,alandi   \n",
       "2              a. c. patil college of engineering   \n",
       "3                                 wilson college    \n",
       "4  ld college of engineering, ahmedabad, gujarat    \n",
       "\n",
       "   How did you come to know about this event?  \\\n",
       "0                                    Whatsapp   \n",
       "1                                    Whatsapp   \n",
       "2                                    Whatsapp   \n",
       "3                                      Others   \n",
       "4                                    Whatsapp   \n",
       "\n",
       "  Specify in \"Others\" (how did you come to know about this event) Designation  \\\n",
       "0                                                NaN                 Students   \n",
       "1                                                NaN                 Students   \n",
       "2                                                NaN                 Students   \n",
       "3                                                NaN                 Students   \n",
       "4                                                NaN                 Students   \n",
       "\n",
       "  Year of Graduation CGPA Speaking Skills ML Knowledge  Placement Status  \n",
       "0                NaN  7.8               3            3               NaN  \n",
       "1                NaN  9.1               3            3               NaN  \n",
       "2                NaN  6.9               2            2               NaN  \n",
       "3                NaN  8.4               4            4               NaN  \n",
       "4                NaN  6.7               5            5               NaN  \n",
       "\n",
       "[5 rows x 23 columns]"
      ]
     },
     "execution_count": 37,
     "metadata": {},
     "output_type": "execute_result"
    }
   ],
   "source": [
    "df_placement_test = pd.read_excel(\"../dataset/Prediction of Placement Status Data/02 Test Data.xlsx\")\n",
    "df_placement_test.head()"
   ]
  },
  {
   "cell_type": "code",
   "execution_count": 38,
   "id": "776b370d",
   "metadata": {},
   "outputs": [
    {
     "data": {
      "text/plain": [
       "(3796, 7)"
      ]
     },
     "execution_count": 38,
     "metadata": {},
     "output_type": "execute_result"
    }
   ],
   "source": [
    "df_placement_test1 = df_placement_test.drop(['Quantity', 'Price Tier', 'Attendee #', 'Group', 'Order Type', 'Currency', 'Total Paid',\n",
    "       'Fees Paid', 'Eventbrite Fees', 'Eventbrite Payment Processing','How did you come to know about this event?', 'How did you come to know about this event?',\n",
    "       'Specify in \"Others\" (how did you come to know about this event)',\n",
    "       'Designation','Year of Graduation','Ticket Type','Placement Status'], axis='columns')\n",
    "\n",
    "\n",
    "df_placement_test1.shape"
   ]
  },
  {
   "cell_type": "markdown",
   "id": "2ea3fd1e",
   "metadata": {},
   "source": [
    "# Data Cleaning: Handle NA values"
   ]
  },
  {
   "cell_type": "code",
   "execution_count": 39,
   "id": "9edeccdf",
   "metadata": {},
   "outputs": [
    {
     "data": {
      "text/plain": [
       "First Name         0\n",
       "Email ID           0\n",
       "Attendee Status    0\n",
       "College Name       1\n",
       "CGPA               0\n",
       "Speaking Skills    0\n",
       "ML Knowledge       0\n",
       "dtype: int64"
      ]
     },
     "execution_count": 39,
     "metadata": {},
     "output_type": "execute_result"
    }
   ],
   "source": [
    "df_placement_test1.isna().sum()"
   ]
  },
  {
   "cell_type": "code",
   "execution_count": 40,
   "id": "a3783c05",
   "metadata": {},
   "outputs": [
    {
     "data": {
      "text/plain": [
       "First Name         0\n",
       "Email ID           0\n",
       "Attendee Status    0\n",
       "College Name       0\n",
       "CGPA               0\n",
       "Speaking Skills    0\n",
       "ML Knowledge       0\n",
       "dtype: int64"
      ]
     },
     "execution_count": 40,
     "metadata": {},
     "output_type": "execute_result"
    }
   ],
   "source": [
    "df_placement_test1_dropped_na = df_placement_test1.dropna()\n",
    "df_placement_test1_dropped_na.isna().sum()"
   ]
  },
  {
   "cell_type": "code",
   "execution_count": 41,
   "id": "f4f59dd9",
   "metadata": {},
   "outputs": [
    {
     "data": {
      "text/html": [
       "<div>\n",
       "<style scoped>\n",
       "    .dataframe tbody tr th:only-of-type {\n",
       "        vertical-align: middle;\n",
       "    }\n",
       "\n",
       "    .dataframe tbody tr th {\n",
       "        vertical-align: top;\n",
       "    }\n",
       "\n",
       "    .dataframe thead th {\n",
       "        text-align: right;\n",
       "    }\n",
       "</style>\n",
       "<table border=\"1\" class=\"dataframe\">\n",
       "  <thead>\n",
       "    <tr style=\"text-align: right;\">\n",
       "      <th></th>\n",
       "      <th>First Name</th>\n",
       "      <th>Email ID</th>\n",
       "      <th>Attendee Status</th>\n",
       "      <th>College Name</th>\n",
       "      <th>CGPA</th>\n",
       "      <th>Speaking Skills</th>\n",
       "      <th>ML Knowledge</th>\n",
       "    </tr>\n",
       "  </thead>\n",
       "  <tbody>\n",
       "    <tr>\n",
       "      <th>0</th>\n",
       "      <td>Sahil</td>\n",
       "      <td>sahil@xyz.com</td>\n",
       "      <td>Attending</td>\n",
       "      <td>symbiosis institute of technology, pune</td>\n",
       "      <td>7.8</td>\n",
       "      <td>3</td>\n",
       "      <td>3</td>\n",
       "    </tr>\n",
       "    <tr>\n",
       "      <th>1</th>\n",
       "      <td>Amrita</td>\n",
       "      <td>amrita@xyz.com</td>\n",
       "      <td>Attending</td>\n",
       "      <td>mit academy of engineering ,alandi</td>\n",
       "      <td>9.1</td>\n",
       "      <td>3</td>\n",
       "      <td>3</td>\n",
       "    </tr>\n",
       "    <tr>\n",
       "      <th>2</th>\n",
       "      <td>Mamta</td>\n",
       "      <td>mamta@xyz.com</td>\n",
       "      <td>Attending</td>\n",
       "      <td>a. c. patil college of engineering</td>\n",
       "      <td>6.9</td>\n",
       "      <td>2</td>\n",
       "      <td>2</td>\n",
       "    </tr>\n",
       "    <tr>\n",
       "      <th>3</th>\n",
       "      <td>Bhagyashri</td>\n",
       "      <td>bhagyashri@xyz.com</td>\n",
       "      <td>Attending</td>\n",
       "      <td>wilson college</td>\n",
       "      <td>8.4</td>\n",
       "      <td>4</td>\n",
       "      <td>4</td>\n",
       "    </tr>\n",
       "    <tr>\n",
       "      <th>4</th>\n",
       "      <td>Divyanshu</td>\n",
       "      <td>divyanshu@xyz.com</td>\n",
       "      <td>Attending</td>\n",
       "      <td>ld college of engineering, ahmedabad, gujarat</td>\n",
       "      <td>6.7</td>\n",
       "      <td>5</td>\n",
       "      <td>5</td>\n",
       "    </tr>\n",
       "  </tbody>\n",
       "</table>\n",
       "</div>"
      ],
      "text/plain": [
       "   First Name            Email ID Attendee Status  \\\n",
       "0      Sahil        sahil@xyz.com       Attending   \n",
       "1     Amrita       amrita@xyz.com       Attending   \n",
       "2       Mamta       mamta@xyz.com       Attending   \n",
       "3  Bhagyashri  bhagyashri@xyz.com       Attending   \n",
       "4   Divyanshu   divyanshu@xyz.com       Attending   \n",
       "\n",
       "                                     College Name  CGPA  Speaking Skills  \\\n",
       "0         symbiosis institute of technology, pune   7.8                3   \n",
       "1              mit academy of engineering ,alandi   9.1                3   \n",
       "2              a. c. patil college of engineering   6.9                2   \n",
       "3                                 wilson college    8.4                4   \n",
       "4  ld college of engineering, ahmedabad, gujarat    6.7                5   \n",
       "\n",
       "   ML Knowledge  \n",
       "0             3  \n",
       "1             3  \n",
       "2             2  \n",
       "3             4  \n",
       "4             5  "
      ]
     },
     "execution_count": 41,
     "metadata": {},
     "output_type": "execute_result"
    }
   ],
   "source": [
    "df_placement_test1_dropped_na.head()"
   ]
  },
  {
   "cell_type": "code",
   "execution_count": 42,
   "id": "a1d61a05",
   "metadata": {},
   "outputs": [
    {
     "data": {
      "text/plain": [
       "(3795, 7)"
      ]
     },
     "execution_count": 42,
     "metadata": {},
     "output_type": "execute_result"
    }
   ],
   "source": [
    "df_placement_test1_dropped_na.shape"
   ]
  },
  {
   "cell_type": "code",
   "execution_count": 43,
   "id": "792077da",
   "metadata": {},
   "outputs": [
    {
     "data": {
      "text/plain": [
       "Index(['First Name', 'Email ID', 'Attendee Status', 'College Name', 'CGPA',\n",
       "       'Speaking Skills', 'ML Knowledge'],\n",
       "      dtype='object')"
      ]
     },
     "execution_count": 43,
     "metadata": {},
     "output_type": "execute_result"
    }
   ],
   "source": [
    "df_placement_test1_dropped_na.columns"
   ]
  },
  {
   "cell_type": "code",
   "execution_count": 44,
   "id": "08924de4",
   "metadata": {},
   "outputs": [
    {
     "data": {
      "text/plain": [
       "(3795, 5)"
      ]
     },
     "execution_count": 44,
     "metadata": {},
     "output_type": "execute_result"
    }
   ],
   "source": [
    "df_placement_test_final = df_placement_test1_dropped_na.drop(['First Name', 'Email ID'], axis='columns')\n",
    "\n",
    "\n",
    "df_placement_test_final.shape"
   ]
  },
  {
   "cell_type": "code",
   "execution_count": 45,
   "id": "47444ea8",
   "metadata": {},
   "outputs": [
    {
     "data": {
      "text/html": [
       "<div>\n",
       "<style scoped>\n",
       "    .dataframe tbody tr th:only-of-type {\n",
       "        vertical-align: middle;\n",
       "    }\n",
       "\n",
       "    .dataframe tbody tr th {\n",
       "        vertical-align: top;\n",
       "    }\n",
       "\n",
       "    .dataframe thead th {\n",
       "        text-align: right;\n",
       "    }\n",
       "</style>\n",
       "<table border=\"1\" class=\"dataframe\">\n",
       "  <thead>\n",
       "    <tr style=\"text-align: right;\">\n",
       "      <th></th>\n",
       "      <th>Attendee Status</th>\n",
       "      <th>College Name</th>\n",
       "      <th>CGPA</th>\n",
       "      <th>Speaking Skills</th>\n",
       "      <th>ML Knowledge</th>\n",
       "    </tr>\n",
       "  </thead>\n",
       "  <tbody>\n",
       "    <tr>\n",
       "      <th>0</th>\n",
       "      <td>Attending</td>\n",
       "      <td>symbiosis institute of technology, pune</td>\n",
       "      <td>7.8</td>\n",
       "      <td>3</td>\n",
       "      <td>3</td>\n",
       "    </tr>\n",
       "    <tr>\n",
       "      <th>1</th>\n",
       "      <td>Attending</td>\n",
       "      <td>mit academy of engineering ,alandi</td>\n",
       "      <td>9.1</td>\n",
       "      <td>3</td>\n",
       "      <td>3</td>\n",
       "    </tr>\n",
       "    <tr>\n",
       "      <th>2</th>\n",
       "      <td>Attending</td>\n",
       "      <td>a. c. patil college of engineering</td>\n",
       "      <td>6.9</td>\n",
       "      <td>2</td>\n",
       "      <td>2</td>\n",
       "    </tr>\n",
       "    <tr>\n",
       "      <th>3</th>\n",
       "      <td>Attending</td>\n",
       "      <td>wilson college</td>\n",
       "      <td>8.4</td>\n",
       "      <td>4</td>\n",
       "      <td>4</td>\n",
       "    </tr>\n",
       "    <tr>\n",
       "      <th>4</th>\n",
       "      <td>Attending</td>\n",
       "      <td>ld college of engineering, ahmedabad, gujarat</td>\n",
       "      <td>6.7</td>\n",
       "      <td>5</td>\n",
       "      <td>5</td>\n",
       "    </tr>\n",
       "  </tbody>\n",
       "</table>\n",
       "</div>"
      ],
      "text/plain": [
       "  Attendee Status                                    College Name  CGPA  \\\n",
       "0       Attending         symbiosis institute of technology, pune   7.8   \n",
       "1       Attending              mit academy of engineering ,alandi   9.1   \n",
       "2       Attending              a. c. patil college of engineering   6.9   \n",
       "3       Attending                                 wilson college    8.4   \n",
       "4       Attending  ld college of engineering, ahmedabad, gujarat    6.7   \n",
       "\n",
       "   Speaking Skills  ML Knowledge  \n",
       "0                3             3  \n",
       "1                3             3  \n",
       "2                2             2  \n",
       "3                4             4  \n",
       "4                5             5  "
      ]
     },
     "execution_count": 45,
     "metadata": {},
     "output_type": "execute_result"
    }
   ],
   "source": [
    "df_placement_test_final.head()"
   ]
  },
  {
   "cell_type": "code",
   "execution_count": 46,
   "id": "9f2e18ca",
   "metadata": {},
   "outputs": [
    {
     "data": {
      "text/plain": [
       "array(['Attending', 'NAN'], dtype=object)"
      ]
     },
     "execution_count": 46,
     "metadata": {},
     "output_type": "execute_result"
    }
   ],
   "source": [
    "df_placement_test_final['Attendee Status'].unique()"
   ]
  },
  {
   "cell_type": "code",
   "execution_count": 47,
   "id": "4e1bfa8a",
   "metadata": {},
   "outputs": [
    {
     "data": {
      "text/plain": [
       "array(['Attending', 'Non-Attending'], dtype=object)"
      ]
     },
     "execution_count": 47,
     "metadata": {},
     "output_type": "execute_result"
    }
   ],
   "source": [
    "# Replacing 'NAN' with 'Non-Attending' in the 'Attendee Status' column\n",
    "df_placement_test_final['Attendee Status'] = df_placement_test_final['Attendee Status'].replace('NAN', 'Non-Attending')\n",
    "\n",
    "df_placement_test_final['Attendee Status'].unique()\n"
   ]
  },
  {
   "cell_type": "code",
   "execution_count": 48,
   "id": "05a57464",
   "metadata": {},
   "outputs": [
    {
     "data": {
      "text/plain": [
       "array([1, 0], dtype=int64)"
      ]
     },
     "execution_count": 48,
     "metadata": {},
     "output_type": "execute_result"
    }
   ],
   "source": [
    "# Replacing 'Attending' with 1 and 'Non-Attending' with 0 in the 'Attendee Status' column\n",
    "df_placement_test_final['Attendee Status'] = df_placement_test_final['Attendee Status'].replace({\n",
    "    'Attending': 1,\n",
    "    'Non-Attending': 0\n",
    "})\n",
    "\n",
    "df_placement_test_final['Attendee Status'].unique()"
   ]
  },
  {
   "cell_type": "code",
   "execution_count": 49,
   "id": "6b8ad40f",
   "metadata": {},
   "outputs": [
    {
     "data": {
      "text/plain": [
       "54"
      ]
     },
     "execution_count": 49,
     "metadata": {},
     "output_type": "execute_result"
    }
   ],
   "source": [
    "len(df_placement_test_final['College Name'].unique())"
   ]
  },
  {
   "cell_type": "code",
   "execution_count": 50,
   "id": "ea9df9ae",
   "metadata": {},
   "outputs": [],
   "source": [
    "df_placement_test_final['College Name'] = df_placement_test_final['College Name'].str.strip()"
   ]
  },
  {
   "cell_type": "markdown",
   "id": "ce016b37",
   "metadata": {},
   "source": [
    "#  Using One Hot Encoding For College Name "
   ]
  },
  {
   "cell_type": "code",
   "execution_count": 51,
   "id": "e3f5474a",
   "metadata": {},
   "outputs": [
    {
     "data": {
      "text/plain": [
       "(3795, 54)"
      ]
     },
     "execution_count": 51,
     "metadata": {},
     "output_type": "execute_result"
    }
   ],
   "source": [
    "dummies_test = pd.get_dummies(df_placement_test_final['College Name'])\n",
    "dummies_test.shape"
   ]
  },
  {
   "cell_type": "code",
   "execution_count": 52,
   "id": "5b641577",
   "metadata": {},
   "outputs": [
    {
     "data": {
      "text/html": [
       "<div>\n",
       "<style scoped>\n",
       "    .dataframe tbody tr th:only-of-type {\n",
       "        vertical-align: middle;\n",
       "    }\n",
       "\n",
       "    .dataframe tbody tr th {\n",
       "        vertical-align: top;\n",
       "    }\n",
       "\n",
       "    .dataframe thead th {\n",
       "        text-align: right;\n",
       "    }\n",
       "</style>\n",
       "<table border=\"1\" class=\"dataframe\">\n",
       "  <thead>\n",
       "    <tr style=\"text-align: right;\">\n",
       "      <th></th>\n",
       "      <th>Attendee Status</th>\n",
       "      <th>College Name</th>\n",
       "      <th>CGPA</th>\n",
       "      <th>Speaking Skills</th>\n",
       "      <th>ML Knowledge</th>\n",
       "      <th>A. C. Patil College of Engineering</th>\n",
       "      <th>ADHIYAMAAN COLLEGE OF ENGINEERING</th>\n",
       "      <th>AP SHAH INSTITUTE OF TECHNOLOGY</th>\n",
       "      <th>B. K. Birla College of Arts, Science &amp; Commerce (Autonomous), Kalyan</th>\n",
       "      <th>CHHATTISGARH SWAMI VIVEKANANDA TECHNICAL UNIVERSITY TEACHING DEPARTMENT BHILAI</th>\n",
       "      <th>...</th>\n",
       "      <th>priyadarshini college of engineering, nagpur</th>\n",
       "      <th>s.i.e.s. graduate school of technology, nerul, navi mumbai</th>\n",
       "      <th>silicon institute of technology</th>\n",
       "      <th>st xavier's college</th>\n",
       "      <th>st.francis institute of technology</th>\n",
       "      <th>symbiosis institute of technology, pune</th>\n",
       "      <th>thakur institute of management studies, career development &amp; research - [timscdr]</th>\n",
       "      <th>vidyalankar institute of technology, mumbai</th>\n",
       "      <th>vishwakarma institute of technology, pune</th>\n",
       "      <th>wilson college</th>\n",
       "    </tr>\n",
       "  </thead>\n",
       "  <tbody>\n",
       "    <tr>\n",
       "      <th>0</th>\n",
       "      <td>1</td>\n",
       "      <td>symbiosis institute of technology, pune</td>\n",
       "      <td>7.8</td>\n",
       "      <td>3</td>\n",
       "      <td>3</td>\n",
       "      <td>0</td>\n",
       "      <td>0</td>\n",
       "      <td>0</td>\n",
       "      <td>0</td>\n",
       "      <td>0</td>\n",
       "      <td>...</td>\n",
       "      <td>0</td>\n",
       "      <td>0</td>\n",
       "      <td>0</td>\n",
       "      <td>0</td>\n",
       "      <td>0</td>\n",
       "      <td>1</td>\n",
       "      <td>0</td>\n",
       "      <td>0</td>\n",
       "      <td>0</td>\n",
       "      <td>0</td>\n",
       "    </tr>\n",
       "    <tr>\n",
       "      <th>1</th>\n",
       "      <td>1</td>\n",
       "      <td>mit academy of engineering ,alandi</td>\n",
       "      <td>9.1</td>\n",
       "      <td>3</td>\n",
       "      <td>3</td>\n",
       "      <td>0</td>\n",
       "      <td>0</td>\n",
       "      <td>0</td>\n",
       "      <td>0</td>\n",
       "      <td>0</td>\n",
       "      <td>...</td>\n",
       "      <td>0</td>\n",
       "      <td>0</td>\n",
       "      <td>0</td>\n",
       "      <td>0</td>\n",
       "      <td>0</td>\n",
       "      <td>0</td>\n",
       "      <td>0</td>\n",
       "      <td>0</td>\n",
       "      <td>0</td>\n",
       "      <td>0</td>\n",
       "    </tr>\n",
       "    <tr>\n",
       "      <th>2</th>\n",
       "      <td>1</td>\n",
       "      <td>a. c. patil college of engineering</td>\n",
       "      <td>6.9</td>\n",
       "      <td>2</td>\n",
       "      <td>2</td>\n",
       "      <td>0</td>\n",
       "      <td>0</td>\n",
       "      <td>0</td>\n",
       "      <td>0</td>\n",
       "      <td>0</td>\n",
       "      <td>...</td>\n",
       "      <td>0</td>\n",
       "      <td>0</td>\n",
       "      <td>0</td>\n",
       "      <td>0</td>\n",
       "      <td>0</td>\n",
       "      <td>0</td>\n",
       "      <td>0</td>\n",
       "      <td>0</td>\n",
       "      <td>0</td>\n",
       "      <td>0</td>\n",
       "    </tr>\n",
       "    <tr>\n",
       "      <th>3</th>\n",
       "      <td>1</td>\n",
       "      <td>wilson college</td>\n",
       "      <td>8.4</td>\n",
       "      <td>4</td>\n",
       "      <td>4</td>\n",
       "      <td>0</td>\n",
       "      <td>0</td>\n",
       "      <td>0</td>\n",
       "      <td>0</td>\n",
       "      <td>0</td>\n",
       "      <td>...</td>\n",
       "      <td>0</td>\n",
       "      <td>0</td>\n",
       "      <td>0</td>\n",
       "      <td>0</td>\n",
       "      <td>0</td>\n",
       "      <td>0</td>\n",
       "      <td>0</td>\n",
       "      <td>0</td>\n",
       "      <td>0</td>\n",
       "      <td>1</td>\n",
       "    </tr>\n",
       "    <tr>\n",
       "      <th>4</th>\n",
       "      <td>1</td>\n",
       "      <td>ld college of engineering, ahmedabad, gujarat</td>\n",
       "      <td>6.7</td>\n",
       "      <td>5</td>\n",
       "      <td>5</td>\n",
       "      <td>0</td>\n",
       "      <td>0</td>\n",
       "      <td>0</td>\n",
       "      <td>0</td>\n",
       "      <td>0</td>\n",
       "      <td>...</td>\n",
       "      <td>0</td>\n",
       "      <td>0</td>\n",
       "      <td>0</td>\n",
       "      <td>0</td>\n",
       "      <td>0</td>\n",
       "      <td>0</td>\n",
       "      <td>0</td>\n",
       "      <td>0</td>\n",
       "      <td>0</td>\n",
       "      <td>0</td>\n",
       "    </tr>\n",
       "  </tbody>\n",
       "</table>\n",
       "<p>5 rows × 59 columns</p>\n",
       "</div>"
      ],
      "text/plain": [
       "   Attendee Status                                   College Name  CGPA  \\\n",
       "0                1        symbiosis institute of technology, pune   7.8   \n",
       "1                1             mit academy of engineering ,alandi   9.1   \n",
       "2                1             a. c. patil college of engineering   6.9   \n",
       "3                1                                 wilson college   8.4   \n",
       "4                1  ld college of engineering, ahmedabad, gujarat   6.7   \n",
       "\n",
       "   Speaking Skills  ML Knowledge  A. C. Patil College of Engineering  \\\n",
       "0                3             3                                   0   \n",
       "1                3             3                                   0   \n",
       "2                2             2                                   0   \n",
       "3                4             4                                   0   \n",
       "4                5             5                                   0   \n",
       "\n",
       "   ADHIYAMAAN COLLEGE OF ENGINEERING  AP SHAH INSTITUTE OF TECHNOLOGY  \\\n",
       "0                                  0                                0   \n",
       "1                                  0                                0   \n",
       "2                                  0                                0   \n",
       "3                                  0                                0   \n",
       "4                                  0                                0   \n",
       "\n",
       "   B. K. Birla College of Arts, Science & Commerce (Autonomous), Kalyan  \\\n",
       "0                                                  0                      \n",
       "1                                                  0                      \n",
       "2                                                  0                      \n",
       "3                                                  0                      \n",
       "4                                                  0                      \n",
       "\n",
       "   CHHATTISGARH SWAMI VIVEKANANDA TECHNICAL UNIVERSITY TEACHING DEPARTMENT BHILAI  \\\n",
       "0                                                  0                                \n",
       "1                                                  0                                \n",
       "2                                                  0                                \n",
       "3                                                  0                                \n",
       "4                                                  0                                \n",
       "\n",
       "   ...  priyadarshini college of engineering, nagpur  \\\n",
       "0  ...                                             0   \n",
       "1  ...                                             0   \n",
       "2  ...                                             0   \n",
       "3  ...                                             0   \n",
       "4  ...                                             0   \n",
       "\n",
       "   s.i.e.s. graduate school of technology, nerul, navi mumbai  \\\n",
       "0                                                  0            \n",
       "1                                                  0            \n",
       "2                                                  0            \n",
       "3                                                  0            \n",
       "4                                                  0            \n",
       "\n",
       "   silicon institute of technology  st xavier's college  \\\n",
       "0                                0                    0   \n",
       "1                                0                    0   \n",
       "2                                0                    0   \n",
       "3                                0                    0   \n",
       "4                                0                    0   \n",
       "\n",
       "   st.francis institute of technology  \\\n",
       "0                                   0   \n",
       "1                                   0   \n",
       "2                                   0   \n",
       "3                                   0   \n",
       "4                                   0   \n",
       "\n",
       "   symbiosis institute of technology, pune  \\\n",
       "0                                        1   \n",
       "1                                        0   \n",
       "2                                        0   \n",
       "3                                        0   \n",
       "4                                        0   \n",
       "\n",
       "   thakur institute of management studies, career development & research - [timscdr]  \\\n",
       "0                                                  0                                   \n",
       "1                                                  0                                   \n",
       "2                                                  0                                   \n",
       "3                                                  0                                   \n",
       "4                                                  0                                   \n",
       "\n",
       "   vidyalankar institute of technology, mumbai  \\\n",
       "0                                            0   \n",
       "1                                            0   \n",
       "2                                            0   \n",
       "3                                            0   \n",
       "4                                            0   \n",
       "\n",
       "   vishwakarma institute of technology, pune  wilson college  \n",
       "0                                          0               0  \n",
       "1                                          0               0  \n",
       "2                                          0               0  \n",
       "3                                          0               1  \n",
       "4                                          0               0  \n",
       "\n",
       "[5 rows x 59 columns]"
      ]
     },
     "execution_count": 52,
     "metadata": {},
     "output_type": "execute_result"
    }
   ],
   "source": [
    "df_final_test = pd.concat([df_placement_test_final, dummies_test], axis='columns')\n",
    "df_final_test.head()"
   ]
  },
  {
   "cell_type": "code",
   "execution_count": 53,
   "id": "b049dbe5",
   "metadata": {},
   "outputs": [
    {
     "data": {
      "text/plain": [
       "(3795, 58)"
      ]
     },
     "execution_count": 53,
     "metadata": {},
     "output_type": "execute_result"
    }
   ],
   "source": [
    "df_final_test1 = df_final_test.drop(['College Name'], axis='columns')\n",
    "\n",
    "df_final_test1.shape"
   ]
  },
  {
   "cell_type": "code",
   "execution_count": 54,
   "id": "eaa7b8db",
   "metadata": {},
   "outputs": [
    {
     "data": {
      "text/html": [
       "<div>\n",
       "<style scoped>\n",
       "    .dataframe tbody tr th:only-of-type {\n",
       "        vertical-align: middle;\n",
       "    }\n",
       "\n",
       "    .dataframe tbody tr th {\n",
       "        vertical-align: top;\n",
       "    }\n",
       "\n",
       "    .dataframe thead th {\n",
       "        text-align: right;\n",
       "    }\n",
       "</style>\n",
       "<table border=\"1\" class=\"dataframe\">\n",
       "  <thead>\n",
       "    <tr style=\"text-align: right;\">\n",
       "      <th></th>\n",
       "      <th>Attendee Status</th>\n",
       "      <th>CGPA</th>\n",
       "      <th>Speaking Skills</th>\n",
       "      <th>ML Knowledge</th>\n",
       "      <th>A. C. Patil College of Engineering</th>\n",
       "      <th>ADHIYAMAAN COLLEGE OF ENGINEERING</th>\n",
       "      <th>AP SHAH INSTITUTE OF TECHNOLOGY</th>\n",
       "      <th>B. K. Birla College of Arts, Science &amp; Commerce (Autonomous), Kalyan</th>\n",
       "      <th>CHHATTISGARH SWAMI VIVEKANANDA TECHNICAL UNIVERSITY TEACHING DEPARTMENT BHILAI</th>\n",
       "      <th>D Y PATIL INSTITUTE OF MCA AND MANAGEMENT AKURDI PUNE</th>\n",
       "      <th>...</th>\n",
       "      <th>priyadarshini college of engineering, nagpur</th>\n",
       "      <th>s.i.e.s. graduate school of technology, nerul, navi mumbai</th>\n",
       "      <th>silicon institute of technology</th>\n",
       "      <th>st xavier's college</th>\n",
       "      <th>st.francis institute of technology</th>\n",
       "      <th>symbiosis institute of technology, pune</th>\n",
       "      <th>thakur institute of management studies, career development &amp; research - [timscdr]</th>\n",
       "      <th>vidyalankar institute of technology, mumbai</th>\n",
       "      <th>vishwakarma institute of technology, pune</th>\n",
       "      <th>wilson college</th>\n",
       "    </tr>\n",
       "  </thead>\n",
       "  <tbody>\n",
       "    <tr>\n",
       "      <th>0</th>\n",
       "      <td>1</td>\n",
       "      <td>7.8</td>\n",
       "      <td>3</td>\n",
       "      <td>3</td>\n",
       "      <td>0</td>\n",
       "      <td>0</td>\n",
       "      <td>0</td>\n",
       "      <td>0</td>\n",
       "      <td>0</td>\n",
       "      <td>0</td>\n",
       "      <td>...</td>\n",
       "      <td>0</td>\n",
       "      <td>0</td>\n",
       "      <td>0</td>\n",
       "      <td>0</td>\n",
       "      <td>0</td>\n",
       "      <td>1</td>\n",
       "      <td>0</td>\n",
       "      <td>0</td>\n",
       "      <td>0</td>\n",
       "      <td>0</td>\n",
       "    </tr>\n",
       "    <tr>\n",
       "      <th>1</th>\n",
       "      <td>1</td>\n",
       "      <td>9.1</td>\n",
       "      <td>3</td>\n",
       "      <td>3</td>\n",
       "      <td>0</td>\n",
       "      <td>0</td>\n",
       "      <td>0</td>\n",
       "      <td>0</td>\n",
       "      <td>0</td>\n",
       "      <td>0</td>\n",
       "      <td>...</td>\n",
       "      <td>0</td>\n",
       "      <td>0</td>\n",
       "      <td>0</td>\n",
       "      <td>0</td>\n",
       "      <td>0</td>\n",
       "      <td>0</td>\n",
       "      <td>0</td>\n",
       "      <td>0</td>\n",
       "      <td>0</td>\n",
       "      <td>0</td>\n",
       "    </tr>\n",
       "    <tr>\n",
       "      <th>2</th>\n",
       "      <td>1</td>\n",
       "      <td>6.9</td>\n",
       "      <td>2</td>\n",
       "      <td>2</td>\n",
       "      <td>0</td>\n",
       "      <td>0</td>\n",
       "      <td>0</td>\n",
       "      <td>0</td>\n",
       "      <td>0</td>\n",
       "      <td>0</td>\n",
       "      <td>...</td>\n",
       "      <td>0</td>\n",
       "      <td>0</td>\n",
       "      <td>0</td>\n",
       "      <td>0</td>\n",
       "      <td>0</td>\n",
       "      <td>0</td>\n",
       "      <td>0</td>\n",
       "      <td>0</td>\n",
       "      <td>0</td>\n",
       "      <td>0</td>\n",
       "    </tr>\n",
       "    <tr>\n",
       "      <th>3</th>\n",
       "      <td>1</td>\n",
       "      <td>8.4</td>\n",
       "      <td>4</td>\n",
       "      <td>4</td>\n",
       "      <td>0</td>\n",
       "      <td>0</td>\n",
       "      <td>0</td>\n",
       "      <td>0</td>\n",
       "      <td>0</td>\n",
       "      <td>0</td>\n",
       "      <td>...</td>\n",
       "      <td>0</td>\n",
       "      <td>0</td>\n",
       "      <td>0</td>\n",
       "      <td>0</td>\n",
       "      <td>0</td>\n",
       "      <td>0</td>\n",
       "      <td>0</td>\n",
       "      <td>0</td>\n",
       "      <td>0</td>\n",
       "      <td>1</td>\n",
       "    </tr>\n",
       "    <tr>\n",
       "      <th>4</th>\n",
       "      <td>1</td>\n",
       "      <td>6.7</td>\n",
       "      <td>5</td>\n",
       "      <td>5</td>\n",
       "      <td>0</td>\n",
       "      <td>0</td>\n",
       "      <td>0</td>\n",
       "      <td>0</td>\n",
       "      <td>0</td>\n",
       "      <td>0</td>\n",
       "      <td>...</td>\n",
       "      <td>0</td>\n",
       "      <td>0</td>\n",
       "      <td>0</td>\n",
       "      <td>0</td>\n",
       "      <td>0</td>\n",
       "      <td>0</td>\n",
       "      <td>0</td>\n",
       "      <td>0</td>\n",
       "      <td>0</td>\n",
       "      <td>0</td>\n",
       "    </tr>\n",
       "  </tbody>\n",
       "</table>\n",
       "<p>5 rows × 58 columns</p>\n",
       "</div>"
      ],
      "text/plain": [
       "   Attendee Status  CGPA  Speaking Skills  ML Knowledge  \\\n",
       "0                1   7.8                3             3   \n",
       "1                1   9.1                3             3   \n",
       "2                1   6.9                2             2   \n",
       "3                1   8.4                4             4   \n",
       "4                1   6.7                5             5   \n",
       "\n",
       "   A. C. Patil College of Engineering  ADHIYAMAAN COLLEGE OF ENGINEERING  \\\n",
       "0                                   0                                  0   \n",
       "1                                   0                                  0   \n",
       "2                                   0                                  0   \n",
       "3                                   0                                  0   \n",
       "4                                   0                                  0   \n",
       "\n",
       "   AP SHAH INSTITUTE OF TECHNOLOGY  \\\n",
       "0                                0   \n",
       "1                                0   \n",
       "2                                0   \n",
       "3                                0   \n",
       "4                                0   \n",
       "\n",
       "   B. K. Birla College of Arts, Science & Commerce (Autonomous), Kalyan  \\\n",
       "0                                                  0                      \n",
       "1                                                  0                      \n",
       "2                                                  0                      \n",
       "3                                                  0                      \n",
       "4                                                  0                      \n",
       "\n",
       "   CHHATTISGARH SWAMI VIVEKANANDA TECHNICAL UNIVERSITY TEACHING DEPARTMENT BHILAI  \\\n",
       "0                                                  0                                \n",
       "1                                                  0                                \n",
       "2                                                  0                                \n",
       "3                                                  0                                \n",
       "4                                                  0                                \n",
       "\n",
       "   D Y PATIL INSTITUTE OF MCA AND MANAGEMENT AKURDI PUNE  ...  \\\n",
       "0                                                  0      ...   \n",
       "1                                                  0      ...   \n",
       "2                                                  0      ...   \n",
       "3                                                  0      ...   \n",
       "4                                                  0      ...   \n",
       "\n",
       "   priyadarshini college of engineering, nagpur  \\\n",
       "0                                             0   \n",
       "1                                             0   \n",
       "2                                             0   \n",
       "3                                             0   \n",
       "4                                             0   \n",
       "\n",
       "   s.i.e.s. graduate school of technology, nerul, navi mumbai  \\\n",
       "0                                                  0            \n",
       "1                                                  0            \n",
       "2                                                  0            \n",
       "3                                                  0            \n",
       "4                                                  0            \n",
       "\n",
       "   silicon institute of technology  st xavier's college  \\\n",
       "0                                0                    0   \n",
       "1                                0                    0   \n",
       "2                                0                    0   \n",
       "3                                0                    0   \n",
       "4                                0                    0   \n",
       "\n",
       "   st.francis institute of technology  \\\n",
       "0                                   0   \n",
       "1                                   0   \n",
       "2                                   0   \n",
       "3                                   0   \n",
       "4                                   0   \n",
       "\n",
       "   symbiosis institute of technology, pune  \\\n",
       "0                                        1   \n",
       "1                                        0   \n",
       "2                                        0   \n",
       "3                                        0   \n",
       "4                                        0   \n",
       "\n",
       "   thakur institute of management studies, career development & research - [timscdr]  \\\n",
       "0                                                  0                                   \n",
       "1                                                  0                                   \n",
       "2                                                  0                                   \n",
       "3                                                  0                                   \n",
       "4                                                  0                                   \n",
       "\n",
       "   vidyalankar institute of technology, mumbai  \\\n",
       "0                                            0   \n",
       "1                                            0   \n",
       "2                                            0   \n",
       "3                                            0   \n",
       "4                                            0   \n",
       "\n",
       "   vishwakarma institute of technology, pune  wilson college  \n",
       "0                                          0               0  \n",
       "1                                          0               0  \n",
       "2                                          0               0  \n",
       "3                                          0               1  \n",
       "4                                          0               0  \n",
       "\n",
       "[5 rows x 58 columns]"
      ]
     },
     "execution_count": 54,
     "metadata": {},
     "output_type": "execute_result"
    }
   ],
   "source": [
    "df_final_test1.head()"
   ]
  },
  {
   "cell_type": "markdown",
   "id": "f751f0e2",
   "metadata": {},
   "source": [
    "# Prediction Result"
   ]
  },
  {
   "cell_type": "code",
   "execution_count": 55,
   "id": "16e74b42",
   "metadata": {},
   "outputs": [],
   "source": [
    "submission_preds = model.predict(df_final_test1)"
   ]
  },
  {
   "cell_type": "code",
   "execution_count": 56,
   "id": "f5a34d52",
   "metadata": {},
   "outputs": [
    {
     "name": "stderr",
     "output_type": "stream",
     "text": [
      "C:\\Users\\mansh\\AppData\\Local\\Temp\\ipykernel_3632\\643000958.py:1: SettingWithCopyWarning: \n",
      "A value is trying to be set on a copy of a slice from a DataFrame.\n",
      "Try using .loc[row_indexer,col_indexer] = value instead\n",
      "\n",
      "See the caveats in the documentation: https://pandas.pydata.org/pandas-docs/stable/user_guide/indexing.html#returning-a-view-versus-a-copy\n",
      "  df_placement_test1_dropped_na['Placement Status'] = submission_preds\n"
     ]
    }
   ],
   "source": [
    "df_placement_test1_dropped_na['Placement Status'] = submission_preds"
   ]
  },
  {
   "cell_type": "code",
   "execution_count": 57,
   "id": "5e8d3ef3",
   "metadata": {},
   "outputs": [
    {
     "data": {
      "text/html": [
       "<div>\n",
       "<style scoped>\n",
       "    .dataframe tbody tr th:only-of-type {\n",
       "        vertical-align: middle;\n",
       "    }\n",
       "\n",
       "    .dataframe tbody tr th {\n",
       "        vertical-align: top;\n",
       "    }\n",
       "\n",
       "    .dataframe thead th {\n",
       "        text-align: right;\n",
       "    }\n",
       "</style>\n",
       "<table border=\"1\" class=\"dataframe\">\n",
       "  <thead>\n",
       "    <tr style=\"text-align: right;\">\n",
       "      <th></th>\n",
       "      <th>First Name</th>\n",
       "      <th>Email ID</th>\n",
       "      <th>Attendee Status</th>\n",
       "      <th>College Name</th>\n",
       "      <th>CGPA</th>\n",
       "      <th>Speaking Skills</th>\n",
       "      <th>ML Knowledge</th>\n",
       "      <th>Placement Status</th>\n",
       "    </tr>\n",
       "  </thead>\n",
       "  <tbody>\n",
       "    <tr>\n",
       "      <th>0</th>\n",
       "      <td>Sahil</td>\n",
       "      <td>sahil@xyz.com</td>\n",
       "      <td>Attending</td>\n",
       "      <td>symbiosis institute of technology, pune</td>\n",
       "      <td>7.8</td>\n",
       "      <td>3</td>\n",
       "      <td>3</td>\n",
       "      <td>0</td>\n",
       "    </tr>\n",
       "    <tr>\n",
       "      <th>1</th>\n",
       "      <td>Amrita</td>\n",
       "      <td>amrita@xyz.com</td>\n",
       "      <td>Attending</td>\n",
       "      <td>mit academy of engineering ,alandi</td>\n",
       "      <td>9.1</td>\n",
       "      <td>3</td>\n",
       "      <td>3</td>\n",
       "      <td>0</td>\n",
       "    </tr>\n",
       "    <tr>\n",
       "      <th>2</th>\n",
       "      <td>Mamta</td>\n",
       "      <td>mamta@xyz.com</td>\n",
       "      <td>Attending</td>\n",
       "      <td>a. c. patil college of engineering</td>\n",
       "      <td>6.9</td>\n",
       "      <td>2</td>\n",
       "      <td>2</td>\n",
       "      <td>0</td>\n",
       "    </tr>\n",
       "    <tr>\n",
       "      <th>3</th>\n",
       "      <td>Bhagyashri</td>\n",
       "      <td>bhagyashri@xyz.com</td>\n",
       "      <td>Attending</td>\n",
       "      <td>wilson college</td>\n",
       "      <td>8.4</td>\n",
       "      <td>4</td>\n",
       "      <td>4</td>\n",
       "      <td>0</td>\n",
       "    </tr>\n",
       "    <tr>\n",
       "      <th>4</th>\n",
       "      <td>Divyanshu</td>\n",
       "      <td>divyanshu@xyz.com</td>\n",
       "      <td>Attending</td>\n",
       "      <td>ld college of engineering, ahmedabad, gujarat</td>\n",
       "      <td>6.7</td>\n",
       "      <td>5</td>\n",
       "      <td>5</td>\n",
       "      <td>0</td>\n",
       "    </tr>\n",
       "  </tbody>\n",
       "</table>\n",
       "</div>"
      ],
      "text/plain": [
       "   First Name            Email ID Attendee Status  \\\n",
       "0      Sahil        sahil@xyz.com       Attending   \n",
       "1     Amrita       amrita@xyz.com       Attending   \n",
       "2       Mamta       mamta@xyz.com       Attending   \n",
       "3  Bhagyashri  bhagyashri@xyz.com       Attending   \n",
       "4   Divyanshu   divyanshu@xyz.com       Attending   \n",
       "\n",
       "                                     College Name  CGPA  Speaking Skills  \\\n",
       "0         symbiosis institute of technology, pune   7.8                3   \n",
       "1              mit academy of engineering ,alandi   9.1                3   \n",
       "2              a. c. patil college of engineering   6.9                2   \n",
       "3                                 wilson college    8.4                4   \n",
       "4  ld college of engineering, ahmedabad, gujarat    6.7                5   \n",
       "\n",
       "   ML Knowledge  Placement Status  \n",
       "0             3                 0  \n",
       "1             3                 0  \n",
       "2             2                 0  \n",
       "3             4                 0  \n",
       "4             5                 0  "
      ]
     },
     "execution_count": 57,
     "metadata": {},
     "output_type": "execute_result"
    }
   ],
   "source": [
    "final_df = df_placement_test1_dropped_na.copy()\n",
    "final_df.head()"
   ]
  },
  {
   "cell_type": "code",
   "execution_count": 58,
   "id": "df7804eb",
   "metadata": {},
   "outputs": [
    {
     "name": "stdout",
     "output_type": "stream",
     "text": [
      "DataFrame saved to placement_prediction_result.xlsx\n"
     ]
    }
   ],
   "source": [
    "file_path = 'placement_prediction_result.xlsx'\n",
    "final_df.to_excel(file_path, index=False)\n",
    "\n",
    "print(f\"DataFrame saved to {file_path}\")"
   ]
  },
  {
   "cell_type": "markdown",
   "id": "bc88af27",
   "metadata": {},
   "source": [
    "## Export College Name and column information to a file that will be useful later on in prediction application"
   ]
  },
  {
   "cell_type": "code",
   "execution_count": 59,
   "id": "26d6cf07",
   "metadata": {},
   "outputs": [
    {
     "data": {
      "text/plain": [
       "Index(['Attendee Status', 'CGPA', 'Speaking Skills', 'ML Knowledge',\n",
       "       'A. C. Patil College of Engineering',\n",
       "       'ADHIYAMAAN COLLEGE OF ENGINEERING', 'AP SHAH INSTITUTE OF TECHNOLOGY',\n",
       "       'B. K. Birla College of Arts, Science & Commerce (Autonomous), Kalyan',\n",
       "       'CHHATTISGARH SWAMI VIVEKANANDA TECHNICAL UNIVERSITY TEACHING DEPARTMENT BHILAI',\n",
       "       'D Y PATIL INSTITUTE OF MCA AND MANAGEMENT AKURDI PUNE',\n",
       "       'DKTE Society's Textile And Engineering Institute Ichalkaranji',\n",
       "       'Don Bosco College of Engineering Fatorda Goa',\n",
       "       'G H Raisoni institut of engineering and technology pune',\n",
       "       'GOVERNMENT POLYTECHNIC GANDHINAGAR',\n",
       "       'KLE Society's College of BCA, RLS Institute, Belagavi',\n",
       "       'LD College of engineering, Ahmedabad, Gujarat',\n",
       "       'LOKMANYA TILAK COLLEGE OF ENGINEERING KOPARKHAIRANE NAVI MUMBAI',\n",
       "       'Late G. N. Sapkal College Of Engineering',\n",
       "       'MIT Academy Of Engineering ,Alandi',\n",
       "       'New horizon institute of Technology and Management',\n",
       "       'Pillai College of Engineering New Panvel',\n",
       "       'Priyadarshini college of engineering, Nagpur',\n",
       "       'S.I.E.S. Graduate School Of Technology, Nerul, Navi Mumbai',\n",
       "       'Silicon Institute of Technology', 'St Xavier's College',\n",
       "       'St.Francis Institute of Technology',\n",
       "       'Symbiosis Institute of Technology, Pune',\n",
       "       'THAKUR INSTITUTE OF MANAGEMENT STUDIES, CAREER DEVELOPMENT & RESEARCH - [TIMSCDR]',\n",
       "       'Vidyalankar Institute of Technology, Mumbai',\n",
       "       'Vishwakarma Institute of Technology, Pune', 'Wilson college',\n",
       "       'a. c. patil college of engineering',\n",
       "       'adhiyamaan college of engineering', 'ap shah institute of technology',\n",
       "       'b. k. birla college of arts, science & commerce (autonomous), kalyan',\n",
       "       'chhattisgarh swami vivekananda technical university teaching department bhilai',\n",
       "       'd y patil institute of mca and management akurdi pune',\n",
       "       'dkte society's textile and engineering institute ichalkaranji',\n",
       "       'don bosco college of engineering fatorda goa',\n",
       "       'g h raisoni institut of engineering and technology pune',\n",
       "       'government polytechnic gandhinagar',\n",
       "       'kle society's college of bca, rls institute, belagavi',\n",
       "       'late g. n. sapkal college of engineering',\n",
       "       'ld college of engineering, ahmedabad, gujarat',\n",
       "       'lokmanya tilak college of engineering koparkhairane navi mumbai',\n",
       "       'mit academy of engineering ,alandi',\n",
       "       'new horizon institute of technology and management',\n",
       "       'pillai college of engineering new panvel',\n",
       "       'priyadarshini college of engineering, nagpur',\n",
       "       's.i.e.s. graduate school of technology, nerul, navi mumbai',\n",
       "       'silicon institute of technology', 'st xavier's college',\n",
       "       'st.francis institute of technology',\n",
       "       'symbiosis institute of technology, pune',\n",
       "       'thakur institute of management studies, career development & research - [timscdr]',\n",
       "       'vidyalankar institute of technology, mumbai',\n",
       "       'vishwakarma institute of technology, pune', 'wilson college'],\n",
       "      dtype='object')"
      ]
     },
     "execution_count": 59,
     "metadata": {},
     "output_type": "execute_result"
    }
   ],
   "source": [
    "x.columns"
   ]
  },
  {
   "cell_type": "code",
   "execution_count": 60,
   "id": "f3e9fb27",
   "metadata": {},
   "outputs": [],
   "source": [
    "import json \n",
    "columns = {\n",
    "    'data_columns' : [col.lower() for col in x.columns]\n",
    "}\n",
    "with open('columns_placement_prediction.json', 'w') as f:\n",
    "    f.write(json.dumps(columns))"
   ]
  },
  {
   "cell_type": "markdown",
   "id": "6c01f0ac",
   "metadata": {},
   "source": [
    "# Function for Prediction"
   ]
  },
  {
   "cell_type": "code",
   "execution_count": 61,
   "id": "426c9fae",
   "metadata": {},
   "outputs": [],
   "source": [
    "def predict_placement(college, attendee, cgpa, speaking_skill, ml_knowledge):\n",
    "    # Check if the college exists in the columns\n",
    "    if college in x.columns:\n",
    "        loc_index = np.where(x.columns == college)[0][0]  # Get the index of the college column\n",
    "    else:\n",
    "        raise ValueError(f\"College '{college}' not found in columns.\")\n",
    "    \n",
    "    x_ = np.zeros(len(x.columns))   # Create an array x_\n",
    "    x_[0] = attendee\n",
    "    x_[1] = cgpa\n",
    "    x_[2] = speaking_skill\n",
    "    x_[3] = ml_knowledge\n",
    "    \n",
    "    if loc_index >= 0:\n",
    "        x_[loc_index] = 1  # Set the college column to 1\n",
    "    \n",
    "    prediction = model.predict([x_])[0]  # The output is in the form of an array so we take only the first element\n",
    "\n",
    "    return prediction\n"
   ]
  },
  {
   "cell_type": "code",
   "execution_count": 62,
   "id": "dff31597",
   "metadata": {},
   "outputs": [
    {
     "name": "stderr",
     "output_type": "stream",
     "text": [
      "C:\\Users\\mansh\\AppData\\Local\\Programs\\Python\\Python311\\Lib\\site-packages\\sklearn\\base.py:439: UserWarning: X does not have valid feature names, but DecisionTreeClassifier was fitted with feature names\n",
      "  warnings.warn(\n"
     ]
    },
    {
     "data": {
      "text/plain": [
       "0"
      ]
     },
     "execution_count": 62,
     "metadata": {},
     "output_type": "execute_result"
    }
   ],
   "source": [
    "predict_placement('wilson college', 1, 8, 5, 5)"
   ]
  },
  {
   "cell_type": "code",
   "execution_count": 63,
   "id": "8c46fa73",
   "metadata": {},
   "outputs": [
    {
     "name": "stderr",
     "output_type": "stream",
     "text": [
      "C:\\Users\\mansh\\AppData\\Local\\Programs\\Python\\Python311\\Lib\\site-packages\\sklearn\\base.py:439: UserWarning: X does not have valid feature names, but DecisionTreeClassifier was fitted with feature names\n",
      "  warnings.warn(\n"
     ]
    },
    {
     "data": {
      "text/plain": [
       "1"
      ]
     },
     "execution_count": 63,
     "metadata": {},
     "output_type": "execute_result"
    }
   ],
   "source": [
    "predict_placement('GOVERNMENT POLYTECHNIC GANDHINAGAR', 1, 8, 5, 4)"
   ]
  },
  {
   "cell_type": "code",
   "execution_count": 64,
   "id": "87106a80",
   "metadata": {},
   "outputs": [
    {
     "name": "stderr",
     "output_type": "stream",
     "text": [
      "C:\\Users\\mansh\\AppData\\Local\\Programs\\Python\\Python311\\Lib\\site-packages\\sklearn\\base.py:439: UserWarning: X does not have valid feature names, but DecisionTreeClassifier was fitted with feature names\n",
      "  warnings.warn(\n"
     ]
    },
    {
     "data": {
      "text/plain": [
       "1"
      ]
     },
     "execution_count": 64,
     "metadata": {},
     "output_type": "execute_result"
    }
   ],
   "source": [
    "predict_placement('a. c. patil college of engineering', 1, 5, 3, 5)"
   ]
  },
  {
   "cell_type": "code",
   "execution_count": null,
   "id": "26ae6a62",
   "metadata": {},
   "outputs": [],
   "source": []
  }
 ],
 "metadata": {
  "kernelspec": {
   "display_name": "Python 3 (ipykernel)",
   "language": "python",
   "name": "python3"
  },
  "language_info": {
   "codemirror_mode": {
    "name": "ipython",
    "version": 3
   },
   "file_extension": ".py",
   "mimetype": "text/x-python",
   "name": "python",
   "nbconvert_exporter": "python",
   "pygments_lexer": "ipython3",
   "version": "3.11.0"
  }
 },
 "nbformat": 4,
 "nbformat_minor": 5
}
